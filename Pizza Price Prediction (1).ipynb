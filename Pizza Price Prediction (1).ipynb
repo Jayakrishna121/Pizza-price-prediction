{
 "cells": [
  {
   "cell_type": "code",
   "execution_count": 1,
   "id": "af1776ac",
   "metadata": {},
   "outputs": [],
   "source": [
    "import numpy as np \n",
    "import pandas as pd \n",
    "import matplotlib.pyplot as plt\n",
    "import seaborn as sns\n",
    "import warnings\n",
    "warnings.filterwarnings('ignore')"
   ]
  },
  {
   "cell_type": "code",
   "execution_count": 2,
   "id": "851062f3",
   "metadata": {},
   "outputs": [
    {
     "data": {
      "text/html": [
       "<div>\n",
       "<style scoped>\n",
       "    .dataframe tbody tr th:only-of-type {\n",
       "        vertical-align: middle;\n",
       "    }\n",
       "\n",
       "    .dataframe tbody tr th {\n",
       "        vertical-align: top;\n",
       "    }\n",
       "\n",
       "    .dataframe thead th {\n",
       "        text-align: right;\n",
       "    }\n",
       "</style>\n",
       "<table border=\"1\" class=\"dataframe\">\n",
       "  <thead>\n",
       "    <tr style=\"text-align: right;\">\n",
       "      <th></th>\n",
       "      <th>company</th>\n",
       "      <th>price_rupiah</th>\n",
       "      <th>diameter</th>\n",
       "      <th>topping</th>\n",
       "      <th>variant</th>\n",
       "      <th>size</th>\n",
       "      <th>extra_sauce</th>\n",
       "      <th>extra_cheese</th>\n",
       "      <th>extra_mushrooms</th>\n",
       "    </tr>\n",
       "  </thead>\n",
       "  <tbody>\n",
       "    <tr>\n",
       "      <th>0</th>\n",
       "      <td>A</td>\n",
       "      <td>Rp235,000</td>\n",
       "      <td>22 inch</td>\n",
       "      <td>chicken</td>\n",
       "      <td>double_signature</td>\n",
       "      <td>jumbo</td>\n",
       "      <td>yes</td>\n",
       "      <td>yes</td>\n",
       "      <td>no</td>\n",
       "    </tr>\n",
       "    <tr>\n",
       "      <th>1</th>\n",
       "      <td>A</td>\n",
       "      <td>Rp198,000</td>\n",
       "      <td>20 inch</td>\n",
       "      <td>papperoni</td>\n",
       "      <td>double_signature</td>\n",
       "      <td>jumbo</td>\n",
       "      <td>yes</td>\n",
       "      <td>yes</td>\n",
       "      <td>no</td>\n",
       "    </tr>\n",
       "    <tr>\n",
       "      <th>2</th>\n",
       "      <td>A</td>\n",
       "      <td>Rp120,000</td>\n",
       "      <td>16 inch</td>\n",
       "      <td>mushrooms</td>\n",
       "      <td>double_signature</td>\n",
       "      <td>reguler</td>\n",
       "      <td>yes</td>\n",
       "      <td>yes</td>\n",
       "      <td>yes</td>\n",
       "    </tr>\n",
       "    <tr>\n",
       "      <th>3</th>\n",
       "      <td>A</td>\n",
       "      <td>Rp155,000</td>\n",
       "      <td>14 inch</td>\n",
       "      <td>smoked_beef</td>\n",
       "      <td>double_signature</td>\n",
       "      <td>reguler</td>\n",
       "      <td>yes</td>\n",
       "      <td>no</td>\n",
       "      <td>yes</td>\n",
       "    </tr>\n",
       "    <tr>\n",
       "      <th>4</th>\n",
       "      <td>A</td>\n",
       "      <td>Rp248,000</td>\n",
       "      <td>18 inch</td>\n",
       "      <td>mozzarella</td>\n",
       "      <td>double_signature</td>\n",
       "      <td>jumbo</td>\n",
       "      <td>yes</td>\n",
       "      <td>no</td>\n",
       "      <td>yes</td>\n",
       "    </tr>\n",
       "    <tr>\n",
       "      <th>...</th>\n",
       "      <td>...</td>\n",
       "      <td>...</td>\n",
       "      <td>...</td>\n",
       "      <td>...</td>\n",
       "      <td>...</td>\n",
       "      <td>...</td>\n",
       "      <td>...</td>\n",
       "      <td>...</td>\n",
       "      <td>...</td>\n",
       "    </tr>\n",
       "    <tr>\n",
       "      <th>124</th>\n",
       "      <td>E</td>\n",
       "      <td>Rp39,000</td>\n",
       "      <td>8.5 inch</td>\n",
       "      <td>tuna</td>\n",
       "      <td>spicy tuna</td>\n",
       "      <td>small</td>\n",
       "      <td>yes</td>\n",
       "      <td>yes</td>\n",
       "      <td>yes</td>\n",
       "    </tr>\n",
       "    <tr>\n",
       "      <th>125</th>\n",
       "      <td>E</td>\n",
       "      <td>Rp72,000</td>\n",
       "      <td>12 inch</td>\n",
       "      <td>tuna</td>\n",
       "      <td>spicy tuna</td>\n",
       "      <td>medium</td>\n",
       "      <td>yes</td>\n",
       "      <td>yes</td>\n",
       "      <td>yes</td>\n",
       "    </tr>\n",
       "    <tr>\n",
       "      <th>126</th>\n",
       "      <td>E</td>\n",
       "      <td>Rp99,000</td>\n",
       "      <td>14 inch</td>\n",
       "      <td>tuna</td>\n",
       "      <td>spicy tuna</td>\n",
       "      <td>large</td>\n",
       "      <td>yes</td>\n",
       "      <td>yes</td>\n",
       "      <td>yes</td>\n",
       "    </tr>\n",
       "    <tr>\n",
       "      <th>127</th>\n",
       "      <td>E</td>\n",
       "      <td>Rp44,000</td>\n",
       "      <td>8.5 inch</td>\n",
       "      <td>meat</td>\n",
       "      <td>BBQ_meat_fiesta</td>\n",
       "      <td>small</td>\n",
       "      <td>yes</td>\n",
       "      <td>no</td>\n",
       "      <td>yes</td>\n",
       "    </tr>\n",
       "    <tr>\n",
       "      <th>128</th>\n",
       "      <td>E</td>\n",
       "      <td>Rp78,000</td>\n",
       "      <td>12 inch</td>\n",
       "      <td>meat</td>\n",
       "      <td>BBQ_meat_fiesta</td>\n",
       "      <td>medium</td>\n",
       "      <td>no</td>\n",
       "      <td>no</td>\n",
       "      <td>yes</td>\n",
       "    </tr>\n",
       "  </tbody>\n",
       "</table>\n",
       "<p>129 rows × 9 columns</p>\n",
       "</div>"
      ],
      "text/plain": [
       "    company price_rupiah  diameter      topping           variant     size  \\\n",
       "0         A    Rp235,000   22 inch      chicken  double_signature    jumbo   \n",
       "1         A    Rp198,000   20 inch    papperoni  double_signature    jumbo   \n",
       "2         A    Rp120,000   16 inch    mushrooms  double_signature  reguler   \n",
       "3         A    Rp155,000   14 inch  smoked_beef  double_signature  reguler   \n",
       "4         A    Rp248,000   18 inch   mozzarella  double_signature    jumbo   \n",
       "..      ...          ...       ...          ...               ...      ...   \n",
       "124       E     Rp39,000  8.5 inch         tuna        spicy tuna    small   \n",
       "125       E     Rp72,000   12 inch         tuna        spicy tuna   medium   \n",
       "126       E     Rp99,000   14 inch         tuna        spicy tuna    large   \n",
       "127       E     Rp44,000  8.5 inch         meat   BBQ_meat_fiesta    small   \n",
       "128       E     Rp78,000   12 inch         meat   BBQ_meat_fiesta   medium   \n",
       "\n",
       "    extra_sauce extra_cheese extra_mushrooms  \n",
       "0           yes          yes              no  \n",
       "1           yes          yes              no  \n",
       "2           yes          yes             yes  \n",
       "3           yes           no             yes  \n",
       "4           yes           no             yes  \n",
       "..          ...          ...             ...  \n",
       "124         yes          yes             yes  \n",
       "125         yes          yes             yes  \n",
       "126         yes          yes             yes  \n",
       "127         yes           no             yes  \n",
       "128          no           no             yes  \n",
       "\n",
       "[129 rows x 9 columns]"
      ]
     },
     "execution_count": 2,
     "metadata": {},
     "output_type": "execute_result"
    }
   ],
   "source": [
    "df=pd.read_csv(r\"C:\\Users\\gkish\\Downloads\\archive\\pizza_v2.csv\")\n",
    "df"
   ]
  },
  {
   "cell_type": "code",
   "execution_count": 3,
   "id": "832de1be",
   "metadata": {},
   "outputs": [
    {
     "data": {
      "text/plain": [
       "(129, 9)"
      ]
     },
     "execution_count": 3,
     "metadata": {},
     "output_type": "execute_result"
    }
   ],
   "source": [
    "df.shape"
   ]
  },
  {
   "cell_type": "code",
   "execution_count": 4,
   "id": "1a320142",
   "metadata": {},
   "outputs": [
    {
     "name": "stdout",
     "output_type": "stream",
     "text": [
      "<class 'pandas.core.frame.DataFrame'>\n",
      "RangeIndex: 129 entries, 0 to 128\n",
      "Data columns (total 9 columns):\n",
      " #   Column           Non-Null Count  Dtype \n",
      "---  ------           --------------  ----- \n",
      " 0   company          129 non-null    object\n",
      " 1   price_rupiah     129 non-null    object\n",
      " 2   diameter         129 non-null    object\n",
      " 3   topping          129 non-null    object\n",
      " 4   variant          129 non-null    object\n",
      " 5   size             129 non-null    object\n",
      " 6   extra_sauce      129 non-null    object\n",
      " 7   extra_cheese     129 non-null    object\n",
      " 8   extra_mushrooms  129 non-null    object\n",
      "dtypes: object(9)\n",
      "memory usage: 9.2+ KB\n"
     ]
    }
   ],
   "source": [
    "df.info()"
   ]
  },
  {
   "cell_type": "code",
   "execution_count": 5,
   "id": "eb4c93e5",
   "metadata": {},
   "outputs": [
    {
     "data": {
      "text/html": [
       "<div>\n",
       "<style scoped>\n",
       "    .dataframe tbody tr th:only-of-type {\n",
       "        vertical-align: middle;\n",
       "    }\n",
       "\n",
       "    .dataframe tbody tr th {\n",
       "        vertical-align: top;\n",
       "    }\n",
       "\n",
       "    .dataframe thead th {\n",
       "        text-align: right;\n",
       "    }\n",
       "</style>\n",
       "<table border=\"1\" class=\"dataframe\">\n",
       "  <thead>\n",
       "    <tr style=\"text-align: right;\">\n",
       "      <th></th>\n",
       "      <th>company</th>\n",
       "      <th>price_rupiah</th>\n",
       "      <th>diameter</th>\n",
       "      <th>topping</th>\n",
       "      <th>variant</th>\n",
       "      <th>size</th>\n",
       "      <th>extra_sauce</th>\n",
       "      <th>extra_cheese</th>\n",
       "      <th>extra_mushrooms</th>\n",
       "    </tr>\n",
       "  </thead>\n",
       "  <tbody>\n",
       "    <tr>\n",
       "      <th>count</th>\n",
       "      <td>129</td>\n",
       "      <td>129</td>\n",
       "      <td>129</td>\n",
       "      <td>129</td>\n",
       "      <td>129</td>\n",
       "      <td>129</td>\n",
       "      <td>129</td>\n",
       "      <td>129</td>\n",
       "      <td>129</td>\n",
       "    </tr>\n",
       "    <tr>\n",
       "      <th>unique</th>\n",
       "      <td>5</td>\n",
       "      <td>43</td>\n",
       "      <td>12</td>\n",
       "      <td>12</td>\n",
       "      <td>20</td>\n",
       "      <td>6</td>\n",
       "      <td>2</td>\n",
       "      <td>2</td>\n",
       "      <td>2</td>\n",
       "    </tr>\n",
       "    <tr>\n",
       "      <th>top</th>\n",
       "      <td>C</td>\n",
       "      <td>Rp72,000</td>\n",
       "      <td>12 inch</td>\n",
       "      <td>chicken</td>\n",
       "      <td>classic</td>\n",
       "      <td>medium</td>\n",
       "      <td>yes</td>\n",
       "      <td>yes</td>\n",
       "      <td>yes</td>\n",
       "    </tr>\n",
       "    <tr>\n",
       "      <th>freq</th>\n",
       "      <td>30</td>\n",
       "      <td>11</td>\n",
       "      <td>49</td>\n",
       "      <td>29</td>\n",
       "      <td>30</td>\n",
       "      <td>41</td>\n",
       "      <td>76</td>\n",
       "      <td>86</td>\n",
       "      <td>72</td>\n",
       "    </tr>\n",
       "  </tbody>\n",
       "</table>\n",
       "</div>"
      ],
      "text/plain": [
       "       company price_rupiah diameter  topping  variant    size extra_sauce  \\\n",
       "count      129          129      129      129      129     129         129   \n",
       "unique       5           43       12       12       20       6           2   \n",
       "top          C     Rp72,000  12 inch  chicken  classic  medium         yes   \n",
       "freq        30           11       49       29       30      41          76   \n",
       "\n",
       "       extra_cheese extra_mushrooms  \n",
       "count           129             129  \n",
       "unique            2               2  \n",
       "top             yes             yes  \n",
       "freq             86              72  "
      ]
     },
     "execution_count": 5,
     "metadata": {},
     "output_type": "execute_result"
    }
   ],
   "source": [
    "df.describe()"
   ]
  },
  {
   "cell_type": "markdown",
   "id": "ecf14820",
   "metadata": {},
   "source": [
    "### Data Cleansing"
   ]
  },
  {
   "cell_type": "code",
   "execution_count": 6,
   "id": "b00e0365",
   "metadata": {},
   "outputs": [
    {
     "data": {
      "text/html": [
       "<div>\n",
       "<style scoped>\n",
       "    .dataframe tbody tr th:only-of-type {\n",
       "        vertical-align: middle;\n",
       "    }\n",
       "\n",
       "    .dataframe tbody tr th {\n",
       "        vertical-align: top;\n",
       "    }\n",
       "\n",
       "    .dataframe thead th {\n",
       "        text-align: right;\n",
       "    }\n",
       "</style>\n",
       "<table border=\"1\" class=\"dataframe\">\n",
       "  <thead>\n",
       "    <tr style=\"text-align: right;\">\n",
       "      <th></th>\n",
       "      <th>company</th>\n",
       "      <th>price_rupiah</th>\n",
       "      <th>diameter</th>\n",
       "      <th>topping</th>\n",
       "      <th>variant</th>\n",
       "      <th>size</th>\n",
       "      <th>extra_sauce</th>\n",
       "      <th>extra_cheese</th>\n",
       "      <th>extra_mushrooms</th>\n",
       "    </tr>\n",
       "  </thead>\n",
       "  <tbody>\n",
       "    <tr>\n",
       "      <th>110</th>\n",
       "      <td>E</td>\n",
       "      <td>Rp115,000</td>\n",
       "      <td>17 inch</td>\n",
       "      <td>mozzarella</td>\n",
       "      <td>new_york</td>\n",
       "      <td>XL</td>\n",
       "      <td>no</td>\n",
       "      <td>yes</td>\n",
       "      <td>yes</td>\n",
       "    </tr>\n",
       "    <tr>\n",
       "      <th>122</th>\n",
       "      <td>E</td>\n",
       "      <td>Rp83,000</td>\n",
       "      <td>17 inch</td>\n",
       "      <td>chicken</td>\n",
       "      <td>new_york</td>\n",
       "      <td>XL</td>\n",
       "      <td>no</td>\n",
       "      <td>yes</td>\n",
       "      <td>no</td>\n",
       "    </tr>\n",
       "  </tbody>\n",
       "</table>\n",
       "</div>"
      ],
      "text/plain": [
       "    company price_rupiah diameter     topping   variant size extra_sauce  \\\n",
       "110       E    Rp115,000  17 inch  mozzarella  new_york   XL          no   \n",
       "122       E     Rp83,000  17 inch     chicken  new_york   XL          no   \n",
       "\n",
       "    extra_cheese extra_mushrooms  \n",
       "110          yes             yes  \n",
       "122          yes              no  "
      ]
     },
     "execution_count": 6,
     "metadata": {},
     "output_type": "execute_result"
    }
   ],
   "source": [
    "df[df.duplicated()]"
   ]
  },
  {
   "cell_type": "code",
   "execution_count": 7,
   "id": "6b034389",
   "metadata": {},
   "outputs": [],
   "source": [
    "df.drop_duplicates(keep='first',inplace=True)"
   ]
  },
  {
   "cell_type": "code",
   "execution_count": 8,
   "id": "74ce331d",
   "metadata": {},
   "outputs": [
    {
     "data": {
      "text/plain": [
       "<AxesSubplot:>"
      ]
     },
     "execution_count": 8,
     "metadata": {},
     "output_type": "execute_result"
    },
    {
     "data": {
      "image/png": "[encoded data removed]",
      "text/plain": [
       "<Figure size 640x480 with 2 Axes>"
      ]
     },
     "metadata": {},
     "output_type": "display_data"
    }
   ],
   "source": [
    "sns.heatmap(df.isnull())"
   ]
  },
  {
   "cell_type": "code",
   "execution_count": 9,
   "id": "1ba4f56a",
   "metadata": {},
   "outputs": [
    {
     "name": "stdout",
     "output_type": "stream",
     "text": [
      "company\n",
      "['A' 'B' 'C' 'D' 'E']\n",
      "5\n",
      "-------------------------------------------------\n",
      "price_rupiah\n",
      "['Rp235,000' 'Rp198,000' 'Rp120,000' 'Rp155,000' 'Rp248,000' 'Rp140,000'\n",
      " 'Rp110,000' 'Rp70,000' 'Rp90,000' 'Rp230,000' 'Rp188,000' 'Rp114,000'\n",
      " 'Rp149,000' 'Rp23,500' 'Rp46,000' 'Rp72,000' 'Rp49,000' 'Rp83,000'\n",
      " 'Rp96,000' 'Rp31,000' 'Rp69,000' 'Rp93,000' 'Rp75,000' 'Rp115,000'\n",
      " 'Rp123,000' 'Rp33,000' 'Rp76,000' 'Rp119,000' 'Rp126,500' 'Rp39,000'\n",
      " 'Rp99,000' 'Rp44,000' 'Rp78,000' 'Rp105,000' 'Rp35,000' 'Rp60,000'\n",
      " 'Rp98,000' 'Rp28,000' 'Rp51,000' 'Rp84,000' 'Rp32,000' 'Rp54,000'\n",
      " 'Rp92,000']\n",
      "43\n",
      "-------------------------------------------------\n",
      "diameter\n",
      "['22 inch' '20 inch' '16 inch' '14 inch' '18 inch' '18.5 inch' '8 inch'\n",
      " '12 inch' '16.5 inch' '8.5 inch' '17 inch' '14 inch\\n']\n",
      "12\n",
      "-------------------------------------------------\n",
      "topping\n",
      "['chicken' 'papperoni' 'mushrooms' 'smoked_beef' 'mozzarella'\n",
      " 'black_papper' 'tuna' 'meat' 'sausage' 'onion' 'vegetables' 'beef']\n",
      "12\n",
      "-------------------------------------------------\n",
      "variant\n",
      "['double_signature' 'american_favorite' 'super_supreme' 'meat_lovers'\n",
      " 'double_mix' 'classic' 'crunchy' 'new_york' 'double_decker' 'spicy_tuna'\n",
      " 'BBQ_meat_fiesta' 'BBQ_sausage' 'extravaganza' 'meat_eater'\n",
      " 'gournet_greek' 'italian_veggie' 'thai_veggie' 'american_classic'\n",
      " 'neptune_tuna' 'spicy tuna']\n",
      "20\n",
      "-------------------------------------------------\n",
      "size\n",
      "['jumbo' 'reguler' 'small' 'medium' 'large' 'XL']\n",
      "6\n",
      "-------------------------------------------------\n",
      "extra_sauce\n",
      "['yes' 'no']\n",
      "2\n",
      "-------------------------------------------------\n",
      "extra_cheese\n",
      "['yes' 'no']\n",
      "2\n",
      "-------------------------------------------------\n",
      "extra_mushrooms\n",
      "['no' 'yes']\n",
      "2\n",
      "-------------------------------------------------\n"
     ]
    }
   ],
   "source": [
    "for i in df.columns:\n",
    "    print(i)\n",
    "    print(df[i].unique())\n",
    "    print(df[i].nunique())\n",
    "    print('-------------------------------------------------')"
   ]
  },
  {
   "cell_type": "code",
   "execution_count": 10,
   "id": "0c95b7cd",
   "metadata": {},
   "outputs": [],
   "source": [
    "df.price_rupiah=df.price_rupiah.str.replace('Rp','').str.replace(',','').astype(int)"
   ]
  },
  {
   "cell_type": "code",
   "execution_count": 11,
   "id": "98076097",
   "metadata": {},
   "outputs": [
    {
     "data": {
      "text/html": [
       "<div>\n",
       "<style scoped>\n",
       "    .dataframe tbody tr th:only-of-type {\n",
       "        vertical-align: middle;\n",
       "    }\n",
       "\n",
       "    .dataframe tbody tr th {\n",
       "        vertical-align: top;\n",
       "    }\n",
       "\n",
       "    .dataframe thead th {\n",
       "        text-align: right;\n",
       "    }\n",
       "</style>\n",
       "<table border=\"1\" class=\"dataframe\">\n",
       "  <thead>\n",
       "    <tr style=\"text-align: right;\">\n",
       "      <th></th>\n",
       "      <th>company</th>\n",
       "      <th>price_rupiah</th>\n",
       "      <th>diameter</th>\n",
       "      <th>topping</th>\n",
       "      <th>variant</th>\n",
       "      <th>size</th>\n",
       "      <th>extra_sauce</th>\n",
       "      <th>extra_cheese</th>\n",
       "      <th>extra_mushrooms</th>\n",
       "    </tr>\n",
       "  </thead>\n",
       "  <tbody>\n",
       "    <tr>\n",
       "      <th>0</th>\n",
       "      <td>A</td>\n",
       "      <td>235000</td>\n",
       "      <td>22 inch</td>\n",
       "      <td>chicken</td>\n",
       "      <td>double_signature</td>\n",
       "      <td>jumbo</td>\n",
       "      <td>yes</td>\n",
       "      <td>yes</td>\n",
       "      <td>no</td>\n",
       "    </tr>\n",
       "    <tr>\n",
       "      <th>1</th>\n",
       "      <td>A</td>\n",
       "      <td>198000</td>\n",
       "      <td>20 inch</td>\n",
       "      <td>papperoni</td>\n",
       "      <td>double_signature</td>\n",
       "      <td>jumbo</td>\n",
       "      <td>yes</td>\n",
       "      <td>yes</td>\n",
       "      <td>no</td>\n",
       "    </tr>\n",
       "    <tr>\n",
       "      <th>2</th>\n",
       "      <td>A</td>\n",
       "      <td>120000</td>\n",
       "      <td>16 inch</td>\n",
       "      <td>mushrooms</td>\n",
       "      <td>double_signature</td>\n",
       "      <td>reguler</td>\n",
       "      <td>yes</td>\n",
       "      <td>yes</td>\n",
       "      <td>yes</td>\n",
       "    </tr>\n",
       "    <tr>\n",
       "      <th>3</th>\n",
       "      <td>A</td>\n",
       "      <td>155000</td>\n",
       "      <td>14 inch</td>\n",
       "      <td>smoked_beef</td>\n",
       "      <td>double_signature</td>\n",
       "      <td>reguler</td>\n",
       "      <td>yes</td>\n",
       "      <td>no</td>\n",
       "      <td>yes</td>\n",
       "    </tr>\n",
       "    <tr>\n",
       "      <th>4</th>\n",
       "      <td>A</td>\n",
       "      <td>248000</td>\n",
       "      <td>18 inch</td>\n",
       "      <td>mozzarella</td>\n",
       "      <td>double_signature</td>\n",
       "      <td>jumbo</td>\n",
       "      <td>yes</td>\n",
       "      <td>no</td>\n",
       "      <td>yes</td>\n",
       "    </tr>\n",
       "    <tr>\n",
       "      <th>...</th>\n",
       "      <td>...</td>\n",
       "      <td>...</td>\n",
       "      <td>...</td>\n",
       "      <td>...</td>\n",
       "      <td>...</td>\n",
       "      <td>...</td>\n",
       "      <td>...</td>\n",
       "      <td>...</td>\n",
       "      <td>...</td>\n",
       "    </tr>\n",
       "    <tr>\n",
       "      <th>124</th>\n",
       "      <td>E</td>\n",
       "      <td>39000</td>\n",
       "      <td>8.5 inch</td>\n",
       "      <td>tuna</td>\n",
       "      <td>spicy tuna</td>\n",
       "      <td>small</td>\n",
       "      <td>yes</td>\n",
       "      <td>yes</td>\n",
       "      <td>yes</td>\n",
       "    </tr>\n",
       "    <tr>\n",
       "      <th>125</th>\n",
       "      <td>E</td>\n",
       "      <td>72000</td>\n",
       "      <td>12 inch</td>\n",
       "      <td>tuna</td>\n",
       "      <td>spicy tuna</td>\n",
       "      <td>medium</td>\n",
       "      <td>yes</td>\n",
       "      <td>yes</td>\n",
       "      <td>yes</td>\n",
       "    </tr>\n",
       "    <tr>\n",
       "      <th>126</th>\n",
       "      <td>E</td>\n",
       "      <td>99000</td>\n",
       "      <td>14 inch</td>\n",
       "      <td>tuna</td>\n",
       "      <td>spicy tuna</td>\n",
       "      <td>large</td>\n",
       "      <td>yes</td>\n",
       "      <td>yes</td>\n",
       "      <td>yes</td>\n",
       "    </tr>\n",
       "    <tr>\n",
       "      <th>127</th>\n",
       "      <td>E</td>\n",
       "      <td>44000</td>\n",
       "      <td>8.5 inch</td>\n",
       "      <td>meat</td>\n",
       "      <td>BBQ_meat_fiesta</td>\n",
       "      <td>small</td>\n",
       "      <td>yes</td>\n",
       "      <td>no</td>\n",
       "      <td>yes</td>\n",
       "    </tr>\n",
       "    <tr>\n",
       "      <th>128</th>\n",
       "      <td>E</td>\n",
       "      <td>78000</td>\n",
       "      <td>12 inch</td>\n",
       "      <td>meat</td>\n",
       "      <td>BBQ_meat_fiesta</td>\n",
       "      <td>medium</td>\n",
       "      <td>no</td>\n",
       "      <td>no</td>\n",
       "      <td>yes</td>\n",
       "    </tr>\n",
       "  </tbody>\n",
       "</table>\n",
       "<p>127 rows × 9 columns</p>\n",
       "</div>"
      ],
      "text/plain": [
       "    company  price_rupiah  diameter      topping           variant     size  \\\n",
       "0         A        235000   22 inch      chicken  double_signature    jumbo   \n",
       "1         A        198000   20 inch    papperoni  double_signature    jumbo   \n",
       "2         A        120000   16 inch    mushrooms  double_signature  reguler   \n",
       "3         A        155000   14 inch  smoked_beef  double_signature  reguler   \n",
       "4         A        248000   18 inch   mozzarella  double_signature    jumbo   \n",
       "..      ...           ...       ...          ...               ...      ...   \n",
       "124       E         39000  8.5 inch         tuna        spicy tuna    small   \n",
       "125       E         72000   12 inch         tuna        spicy tuna   medium   \n",
       "126       E         99000   14 inch         tuna        spicy tuna    large   \n",
       "127       E         44000  8.5 inch         meat   BBQ_meat_fiesta    small   \n",
       "128       E         78000   12 inch         meat   BBQ_meat_fiesta   medium   \n",
       "\n",
       "    extra_sauce extra_cheese extra_mushrooms  \n",
       "0           yes          yes              no  \n",
       "1           yes          yes              no  \n",
       "2           yes          yes             yes  \n",
       "3           yes           no             yes  \n",
       "4           yes           no             yes  \n",
       "..          ...          ...             ...  \n",
       "124         yes          yes             yes  \n",
       "125         yes          yes             yes  \n",
       "126         yes          yes             yes  \n",
       "127         yes           no             yes  \n",
       "128          no           no             yes  \n",
       "\n",
       "[127 rows x 9 columns]"
      ]
     },
     "execution_count": 11,
     "metadata": {},
     "output_type": "execute_result"
    }
   ],
   "source": [
    "df"
   ]
  },
  {
   "cell_type": "code",
   "execution_count": 12,
   "id": "dc0065a8",
   "metadata": {},
   "outputs": [
    {
     "data": {
      "text/plain": [
       "0      22.0\n",
       "1      20.0\n",
       "2      16.0\n",
       "3      14.0\n",
       "4      18.0\n",
       "       ... \n",
       "124     8.5\n",
       "125    12.0\n",
       "126    14.0\n",
       "127     8.5\n",
       "128    12.0\n",
       "Name: diameter, Length: 127, dtype: float64"
      ]
     },
     "execution_count": 12,
     "metadata": {},
     "output_type": "execute_result"
    }
   ],
   "source": [
    "df.diameter=df.diameter.str.replace('inch','').str.replace('inch\\n','').astype(float)\n",
    "df.diameter"
   ]
  },
  {
   "cell_type": "code",
   "execution_count": 13,
   "id": "ba2c4a11",
   "metadata": {},
   "outputs": [
    {
     "data": {
      "text/plain": [
       "array([22. , 20. , 16. , 14. , 18. , 18.5,  8. , 12. , 16.5,  8.5, 17. ])"
      ]
     },
     "execution_count": 13,
     "metadata": {},
     "output_type": "execute_result"
    }
   ],
   "source": [
    "df.diameter.unique()"
   ]
  },
  {
   "cell_type": "code",
   "execution_count": 14,
   "id": "d4da22e3",
   "metadata": {},
   "outputs": [
    {
     "data": {
      "text/plain": [
       "array([235000, 198000, 120000, 155000, 248000, 140000, 110000,  70000,\n",
       "        90000, 230000, 188000, 114000, 149000,  23500,  46000,  72000,\n",
       "        49000,  83000,  96000,  31000,  69000,  93000,  75000, 115000,\n",
       "       123000,  33000,  76000, 119000, 126500,  39000,  99000,  44000,\n",
       "        78000, 105000,  35000,  60000,  98000,  28000,  51000,  84000,\n",
       "        32000,  54000,  92000])"
      ]
     },
     "execution_count": 14,
     "metadata": {},
     "output_type": "execute_result"
    }
   ],
   "source": [
    "df.price_rupiah.unique()"
   ]
  },
  {
   "cell_type": "markdown",
   "id": "5c8ef749",
   "metadata": {},
   "source": [
    "### EDA"
   ]
  },
  {
   "cell_type": "code",
   "execution_count": 15,
   "id": "760b4f0d",
   "metadata": {},
   "outputs": [
    {
     "data": {
      "text/plain": [
       "<AxesSubplot:xlabel='price_rupiah', ylabel='Density'>"
      ]
     },
     "execution_count": 15,
     "metadata": {},
     "output_type": "execute_result"
    },
    {
     "data": {
      "image/png": "[encoded data removed]",
      "text/plain": [
       "<Figure size 640x480 with 1 Axes>"
      ]
     },
     "metadata": {},
     "output_type": "display_data"
    }
   ],
   "source": [
    "sns.distplot(df.price_rupiah)"
   ]
  },
  {
   "cell_type": "code",
   "execution_count": 16,
   "id": "6549164f",
   "metadata": {},
   "outputs": [
    {
     "data": {
      "text/plain": [
       "count       127.000000\n",
       "mean      86964.566929\n",
       "std       44989.248323\n",
       "min       23500.000000\n",
       "25%       50000.000000\n",
       "50%       78000.000000\n",
       "75%      105000.000000\n",
       "max      248000.000000\n",
       "Name: price_rupiah, dtype: float64"
      ]
     },
     "execution_count": 16,
     "metadata": {},
     "output_type": "execute_result"
    }
   ],
   "source": [
    "df.price_rupiah.describe()"
   ]
  },
  {
   "cell_type": "code",
   "execution_count": 17,
   "id": "f9f346b0",
   "metadata": {},
   "outputs": [
    {
     "data": {
      "text/plain": [
       "<AxesSubplot:xlabel='price_rupiah', ylabel='Density'>"
      ]
     },
     "execution_count": 17,
     "metadata": {},
     "output_type": "execute_result"
    },
    {
     "data": {
      "image/png": "[encoded data removed]",
      "text/plain": [
       "<Figure size 640x480 with 1 Axes>"
      ]
     },
     "metadata": {},
     "output_type": "display_data"
    }
   ],
   "source": [
    "df.price_rupiah=np.log(df.price_rupiah)\n",
    "sns.distplot(df.price_rupiah)"
   ]
  },
  {
   "cell_type": "code",
   "execution_count": 18,
   "id": "252a5e5f",
   "metadata": {},
   "outputs": [
    {
     "data": {
      "text/plain": [
       "count    127.000000\n",
       "mean      11.247118\n",
       "std        0.512601\n",
       "min       10.064756\n",
       "25%       10.819578\n",
       "50%       11.264464\n",
       "75%       11.561716\n",
       "max       12.421184\n",
       "Name: price_rupiah, dtype: float64"
      ]
     },
     "execution_count": 18,
     "metadata": {},
     "output_type": "execute_result"
    }
   ],
   "source": [
    "df.price_rupiah.describe()"
   ]
  },
  {
   "cell_type": "code",
   "execution_count": 19,
   "id": "76fe44df",
   "metadata": {},
   "outputs": [
    {
     "data": {
      "text/plain": [
       "<AxesSubplot:xlabel='price_rupiah'>"
      ]
     },
     "execution_count": 19,
     "metadata": {},
     "output_type": "execute_result"
    },
    {
     "data": {
      "image/png": "[encoded data removed]",
      "text/plain": [
       "<Figure size 640x480 with 1 Axes>"
      ]
     },
     "metadata": {},
     "output_type": "display_data"
    }
   ],
   "source": [
    "sns.boxplot(df.price_rupiah)"
   ]
  },
  {
   "cell_type": "code",
   "execution_count": 20,
   "id": "e148f901",
   "metadata": {},
   "outputs": [
    {
     "data": {
      "text/plain": [
       "Index(['company', 'price_rupiah', 'diameter', 'topping', 'variant', 'size',\n",
       "       'extra_sauce', 'extra_cheese', 'extra_mushrooms'],\n",
       "      dtype='object')"
      ]
     },
     "execution_count": 20,
     "metadata": {},
     "output_type": "execute_result"
    }
   ],
   "source": [
    "df.columns"
   ]
  },
  {
   "cell_type": "markdown",
   "id": "ba8c078b",
   "metadata": {},
   "source": [
    "### Company"
   ]
  },
  {
   "cell_type": "code",
   "execution_count": 21,
   "id": "cd8bd7a9",
   "metadata": {},
   "outputs": [
    {
     "data": {
      "text/plain": [
       "C    30\n",
       "E    28\n",
       "A    25\n",
       "B    24\n",
       "D    20\n",
       "Name: company, dtype: int64"
      ]
     },
     "execution_count": 21,
     "metadata": {},
     "output_type": "execute_result"
    }
   ],
   "source": [
    "df.company.value_counts()"
   ]
  },
  {
   "cell_type": "code",
   "execution_count": 22,
   "id": "983fddac",
   "metadata": {},
   "outputs": [
    {
     "data": {
      "text/plain": [
       "Text(0.5, 1.0, 'No. of Company')"
      ]
     },
     "execution_count": 22,
     "metadata": {},
     "output_type": "execute_result"
    },
    {
     "data": {
      "image/png": "[encoded data removed]",
      "text/plain": [
       "<Figure size 640x480 with 1 Axes>"
      ]
     },
     "metadata": {},
     "output_type": "display_data"
    }
   ],
   "source": [
    "sns.countplot(x='company',data=df)\n",
    "plt.title('No. of Company')"
   ]
  },
  {
   "cell_type": "code",
   "execution_count": 23,
   "id": "48dcf50e",
   "metadata": {},
   "outputs": [
    {
     "data": {
      "image/png": "[encoded data removed]",
      "text/plain": [
       "<Figure size 640x480 with 1 Axes>"
      ]
     },
     "metadata": {},
     "output_type": "display_data"
    }
   ],
   "source": [
    "df.groupby('company')['price_rupiah'].mean().plot(kind='bar',color=['#8f1402','#014d4e','#4b006e'])\n",
    "plt.ylabel('Average price')\n",
    "plt.xticks(rotation=0)\n",
    "plt.title('Average price in each company')\n",
    "plt.show()"
   ]
  },
  {
   "cell_type": "code",
   "execution_count": 24,
   "id": "7afa1341",
   "metadata": {},
   "outputs": [],
   "source": [
    "# Statistical test\n",
    "\n",
    "# t-test\n",
    "from scipy.stats import ttest_ind\n",
    "# Anova test\n",
    "import statsmodels.api as sm\n",
    "from statsmodels.formula.api import ols\n",
    "# Tukey HSD\n",
    "from statsmodels.stats.multicomp import pairwise_tukeyhsd\n",
    "# chi-square\n",
    "from scipy.stats import (chi2,chi2_contingency)\n",
    "import statsmodels.formula.api as smf"
   ]
  },
  {
   "cell_type": "code",
   "execution_count": 25,
   "id": "e128b8d1",
   "metadata": {},
   "outputs": [
    {
     "data": {
      "text/html": [
       "<div>\n",
       "<style scoped>\n",
       "    .dataframe tbody tr th:only-of-type {\n",
       "        vertical-align: middle;\n",
       "    }\n",
       "\n",
       "    .dataframe tbody tr th {\n",
       "        vertical-align: top;\n",
       "    }\n",
       "\n",
       "    .dataframe thead th {\n",
       "        text-align: right;\n",
       "    }\n",
       "</style>\n",
       "<table border=\"1\" class=\"dataframe\">\n",
       "  <thead>\n",
       "    <tr style=\"text-align: right;\">\n",
       "      <th></th>\n",
       "      <th>df</th>\n",
       "      <th>sum_sq</th>\n",
       "      <th>mean_sq</th>\n",
       "      <th>F</th>\n",
       "      <th>PR(&gt;F)</th>\n",
       "    </tr>\n",
       "  </thead>\n",
       "  <tbody>\n",
       "    <tr>\n",
       "      <th>company</th>\n",
       "      <td>4.0</td>\n",
       "      <td>8.187125</td>\n",
       "      <td>2.046781</td>\n",
       "      <td>10.020119</td>\n",
       "      <td>4.794967e-07</td>\n",
       "    </tr>\n",
       "    <tr>\n",
       "      <th>Residual</th>\n",
       "      <td>122.0</td>\n",
       "      <td>24.920595</td>\n",
       "      <td>0.204267</td>\n",
       "      <td>NaN</td>\n",
       "      <td>NaN</td>\n",
       "    </tr>\n",
       "  </tbody>\n",
       "</table>\n",
       "</div>"
      ],
      "text/plain": [
       "             df     sum_sq   mean_sq          F        PR(>F)\n",
       "company     4.0   8.187125  2.046781  10.020119  4.794967e-07\n",
       "Residual  122.0  24.920595  0.204267        NaN           NaN"
      ]
     },
     "execution_count": 25,
     "metadata": {},
     "output_type": "execute_result"
    }
   ],
   "source": [
    "model1 = ols('price_rupiah ~ company',data = df).fit()\n",
    "anova1 = sm.stats.anova_lm(model1)\n",
    "anova1"
   ]
  },
  {
   "cell_type": "markdown",
   "id": "29dfd5d1",
   "metadata": {},
   "source": [
    "**Company is a good predictor as it's P value is less than the significance value(0.05)**"
   ]
  },
  {
   "cell_type": "markdown",
   "id": "18aab9d1",
   "metadata": {},
   "source": [
    "### Diameter"
   ]
  },
  {
   "cell_type": "code",
   "execution_count": 26,
   "id": "988cfb98",
   "metadata": {},
   "outputs": [
    {
     "data": {
      "text/plain": [
       "12.0    49\n",
       "14.0    24\n",
       "8.5     22\n",
       "17.0     8\n",
       "18.5     6\n",
       "16.0     5\n",
       "8.0      4\n",
       "16.5     4\n",
       "22.0     3\n",
       "20.0     1\n",
       "18.0     1\n",
       "Name: diameter, dtype: int64"
      ]
     },
     "execution_count": 26,
     "metadata": {},
     "output_type": "execute_result"
    }
   ],
   "source": [
    "df.diameter.value_counts()"
   ]
  },
  {
   "cell_type": "code",
   "execution_count": 27,
   "id": "95618dbe",
   "metadata": {},
   "outputs": [
    {
     "data": {
      "text/plain": [
       "<AxesSubplot:xlabel='diameter', ylabel='count'>"
      ]
     },
     "execution_count": 27,
     "metadata": {},
     "output_type": "execute_result"
    },
    {
     "data": {
      "image/png": "[encoded data removed]",
      "text/plain": [
       "<Figure size 640x480 with 1 Axes>"
      ]
     },
     "metadata": {},
     "output_type": "display_data"
    }
   ],
   "source": [
    "sns.countplot(x='diameter',data=df)"
   ]
  },
  {
   "cell_type": "code",
   "execution_count": 28,
   "id": "b85f23b8",
   "metadata": {},
   "outputs": [
    {
     "data": {
      "text/plain": [
       "diameter\n",
       "8.0     11.156251\n",
       "8.5     10.492835\n",
       "12.0    11.174726\n",
       "14.0    11.426347\n",
       "16.0    11.625638\n",
       "16.5    11.911702\n",
       "17.0    11.498189\n",
       "18.0    12.421184\n",
       "18.5    11.947664\n",
       "20.0    12.196022\n",
       "22.0    12.353003\n",
       "Name: price_rupiah, dtype: float64"
      ]
     },
     "execution_count": 28,
     "metadata": {},
     "output_type": "execute_result"
    }
   ],
   "source": [
    "df.groupby('diameter')['price_rupiah'].mean()"
   ]
  },
  {
   "cell_type": "code",
   "execution_count": 29,
   "id": "0140f7d0",
   "metadata": {},
   "outputs": [
    {
     "data": {
      "text/plain": [
       "<AxesSubplot:xlabel='diameter'>"
      ]
     },
     "execution_count": 29,
     "metadata": {},
     "output_type": "execute_result"
    },
    {
     "data": {
      "image/png": "[encoded data removed]",
      "text/plain": [
       "<Figure size 640x480 with 1 Axes>"
      ]
     },
     "metadata": {},
     "output_type": "display_data"
    }
   ],
   "source": [
    "df.groupby('diameter')['price_rupiah'].mean().plot(kind='bar',color=['black','grey'])"
   ]
  },
  {
   "cell_type": "code",
   "execution_count": 30,
   "id": "584c3a42",
   "metadata": {},
   "outputs": [
    {
     "data": {
      "text/html": [
       "<div>\n",
       "<style scoped>\n",
       "    .dataframe tbody tr th:only-of-type {\n",
       "        vertical-align: middle;\n",
       "    }\n",
       "\n",
       "    .dataframe tbody tr th {\n",
       "        vertical-align: top;\n",
       "    }\n",
       "\n",
       "    .dataframe thead th {\n",
       "        text-align: right;\n",
       "    }\n",
       "</style>\n",
       "<table border=\"1\" class=\"dataframe\">\n",
       "  <thead>\n",
       "    <tr style=\"text-align: right;\">\n",
       "      <th></th>\n",
       "      <th>df</th>\n",
       "      <th>sum_sq</th>\n",
       "      <th>mean_sq</th>\n",
       "      <th>F</th>\n",
       "      <th>PR(&gt;F)</th>\n",
       "    </tr>\n",
       "  </thead>\n",
       "  <tbody>\n",
       "    <tr>\n",
       "      <th>diameter</th>\n",
       "      <td>1.0</td>\n",
       "      <td>22.327845</td>\n",
       "      <td>22.327845</td>\n",
       "      <td>258.906599</td>\n",
       "      <td>3.015082e-32</td>\n",
       "    </tr>\n",
       "    <tr>\n",
       "      <th>Residual</th>\n",
       "      <td>125.0</td>\n",
       "      <td>10.779875</td>\n",
       "      <td>0.086239</td>\n",
       "      <td>NaN</td>\n",
       "      <td>NaN</td>\n",
       "    </tr>\n",
       "  </tbody>\n",
       "</table>\n",
       "</div>"
      ],
      "text/plain": [
       "             df     sum_sq    mean_sq           F        PR(>F)\n",
       "diameter    1.0  22.327845  22.327845  258.906599  3.015082e-32\n",
       "Residual  125.0  10.779875   0.086239         NaN           NaN"
      ]
     },
     "execution_count": 30,
     "metadata": {},
     "output_type": "execute_result"
    }
   ],
   "source": [
    "model2 = ols('price_rupiah ~ diameter',data = df).fit()\n",
    "anova2 = sm.stats.anova_lm(model2)\n",
    "anova2"
   ]
  },
  {
   "cell_type": "markdown",
   "id": "30120386",
   "metadata": {},
   "source": [
    "**Diameter is also a good predictor**"
   ]
  },
  {
   "cell_type": "code",
   "execution_count": 31,
   "id": "1b265199",
   "metadata": {},
   "outputs": [
    {
     "data": {
      "text/plain": [
       "Index(['company', 'price_rupiah', 'diameter', 'topping', 'variant', 'size',\n",
       "       'extra_sauce', 'extra_cheese', 'extra_mushrooms'],\n",
       "      dtype='object')"
      ]
     },
     "execution_count": 31,
     "metadata": {},
     "output_type": "execute_result"
    }
   ],
   "source": [
    "df.columns"
   ]
  },
  {
   "cell_type": "code",
   "execution_count": 32,
   "id": "3316ca0b",
   "metadata": {},
   "outputs": [
    {
     "data": {
      "text/html": [
       "<div>\n",
       "<style scoped>\n",
       "    .dataframe tbody tr th:only-of-type {\n",
       "        vertical-align: middle;\n",
       "    }\n",
       "\n",
       "    .dataframe tbody tr th {\n",
       "        vertical-align: top;\n",
       "    }\n",
       "\n",
       "    .dataframe thead th {\n",
       "        text-align: right;\n",
       "    }\n",
       "</style>\n",
       "<table border=\"1\" class=\"dataframe\">\n",
       "  <thead>\n",
       "    <tr style=\"text-align: right;\">\n",
       "      <th></th>\n",
       "      <th>df</th>\n",
       "      <th>sum_sq</th>\n",
       "      <th>mean_sq</th>\n",
       "      <th>F</th>\n",
       "      <th>PR(&gt;F)</th>\n",
       "    </tr>\n",
       "  </thead>\n",
       "  <tbody>\n",
       "    <tr>\n",
       "      <th>topping</th>\n",
       "      <td>11.0</td>\n",
       "      <td>3.531728</td>\n",
       "      <td>0.321066</td>\n",
       "      <td>8.992161</td>\n",
       "      <td>8.711787e-11</td>\n",
       "    </tr>\n",
       "    <tr>\n",
       "      <th>variant</th>\n",
       "      <td>19.0</td>\n",
       "      <td>16.164267</td>\n",
       "      <td>0.850751</td>\n",
       "      <td>23.827141</td>\n",
       "      <td>4.972623e-28</td>\n",
       "    </tr>\n",
       "    <tr>\n",
       "      <th>size</th>\n",
       "      <td>5.0</td>\n",
       "      <td>10.086714</td>\n",
       "      <td>2.017343</td>\n",
       "      <td>56.500099</td>\n",
       "      <td>5.784443e-27</td>\n",
       "    </tr>\n",
       "    <tr>\n",
       "      <th>extra_sauce</th>\n",
       "      <td>1.0</td>\n",
       "      <td>0.027640</td>\n",
       "      <td>0.027640</td>\n",
       "      <td>0.774121</td>\n",
       "      <td>3.811655e-01</td>\n",
       "    </tr>\n",
       "    <tr>\n",
       "      <th>extra_cheese</th>\n",
       "      <td>1.0</td>\n",
       "      <td>0.027574</td>\n",
       "      <td>0.027574</td>\n",
       "      <td>0.772279</td>\n",
       "      <td>3.817303e-01</td>\n",
       "    </tr>\n",
       "    <tr>\n",
       "      <th>extra_mushrooms</th>\n",
       "      <td>1.0</td>\n",
       "      <td>0.005588</td>\n",
       "      <td>0.005588</td>\n",
       "      <td>0.156495</td>\n",
       "      <td>6.932910e-01</td>\n",
       "    </tr>\n",
       "    <tr>\n",
       "      <th>Residual</th>\n",
       "      <td>95.0</td>\n",
       "      <td>3.391986</td>\n",
       "      <td>0.035705</td>\n",
       "      <td>NaN</td>\n",
       "      <td>NaN</td>\n",
       "    </tr>\n",
       "  </tbody>\n",
       "</table>\n",
       "</div>"
      ],
      "text/plain": [
       "                   df     sum_sq   mean_sq          F        PR(>F)\n",
       "topping          11.0   3.531728  0.321066   8.992161  8.711787e-11\n",
       "variant          19.0  16.164267  0.850751  23.827141  4.972623e-28\n",
       "size              5.0  10.086714  2.017343  56.500099  5.784443e-27\n",
       "extra_sauce       1.0   0.027640  0.027640   0.774121  3.811655e-01\n",
       "extra_cheese      1.0   0.027574  0.027574   0.772279  3.817303e-01\n",
       "extra_mushrooms   1.0   0.005588  0.005588   0.156495  6.932910e-01\n",
       "Residual         95.0   3.391986  0.035705        NaN           NaN"
      ]
     },
     "execution_count": 32,
     "metadata": {},
     "output_type": "execute_result"
    }
   ],
   "source": [
    "model2 = ols('price_rupiah ~ topping+variant+size+extra_sauce+extra_cheese+extra_mushrooms',data = df).fit()\n",
    "anova2 = sm.stats.anova_lm(model2)\n",
    "anova2"
   ]
  },
  {
   "cell_type": "markdown",
   "id": "829a3429",
   "metadata": {},
   "source": [
    "**Topping,variant and size are good Predictors**"
   ]
  },
  {
   "cell_type": "markdown",
   "id": "b855428f",
   "metadata": {},
   "source": [
    "## Model Building"
   ]
  },
  {
   "cell_type": "code",
   "execution_count": 33,
   "id": "d8566e72",
   "metadata": {},
   "outputs": [
    {
     "data": {
      "text/html": [
       "<div>\n",
       "<style scoped>\n",
       "    .dataframe tbody tr th:only-of-type {\n",
       "        vertical-align: middle;\n",
       "    }\n",
       "\n",
       "    .dataframe tbody tr th {\n",
       "        vertical-align: top;\n",
       "    }\n",
       "\n",
       "    .dataframe thead th {\n",
       "        text-align: right;\n",
       "    }\n",
       "</style>\n",
       "<table border=\"1\" class=\"dataframe\">\n",
       "  <thead>\n",
       "    <tr style=\"text-align: right;\">\n",
       "      <th></th>\n",
       "      <th>diameter</th>\n",
       "      <th>company_B</th>\n",
       "      <th>company_C</th>\n",
       "      <th>company_D</th>\n",
       "      <th>company_E</th>\n",
       "      <th>topping_black_papper</th>\n",
       "      <th>topping_chicken</th>\n",
       "      <th>topping_meat</th>\n",
       "      <th>topping_mozzarella</th>\n",
       "      <th>topping_mushrooms</th>\n",
       "      <th>...</th>\n",
       "      <th>variant_super_supreme</th>\n",
       "      <th>variant_thai_veggie</th>\n",
       "      <th>size_jumbo</th>\n",
       "      <th>size_large</th>\n",
       "      <th>size_medium</th>\n",
       "      <th>size_reguler</th>\n",
       "      <th>size_small</th>\n",
       "      <th>extra_sauce_yes</th>\n",
       "      <th>extra_cheese_yes</th>\n",
       "      <th>extra_mushrooms_yes</th>\n",
       "    </tr>\n",
       "  </thead>\n",
       "  <tbody>\n",
       "    <tr>\n",
       "      <th>0</th>\n",
       "      <td>22</td>\n",
       "      <td>0</td>\n",
       "      <td>0</td>\n",
       "      <td>0</td>\n",
       "      <td>0</td>\n",
       "      <td>0</td>\n",
       "      <td>1</td>\n",
       "      <td>0</td>\n",
       "      <td>0</td>\n",
       "      <td>0</td>\n",
       "      <td>...</td>\n",
       "      <td>0</td>\n",
       "      <td>0</td>\n",
       "      <td>1</td>\n",
       "      <td>0</td>\n",
       "      <td>0</td>\n",
       "      <td>0</td>\n",
       "      <td>0</td>\n",
       "      <td>1</td>\n",
       "      <td>1</td>\n",
       "      <td>0</td>\n",
       "    </tr>\n",
       "    <tr>\n",
       "      <th>1</th>\n",
       "      <td>20</td>\n",
       "      <td>0</td>\n",
       "      <td>0</td>\n",
       "      <td>0</td>\n",
       "      <td>0</td>\n",
       "      <td>0</td>\n",
       "      <td>0</td>\n",
       "      <td>0</td>\n",
       "      <td>0</td>\n",
       "      <td>0</td>\n",
       "      <td>...</td>\n",
       "      <td>0</td>\n",
       "      <td>0</td>\n",
       "      <td>1</td>\n",
       "      <td>0</td>\n",
       "      <td>0</td>\n",
       "      <td>0</td>\n",
       "      <td>0</td>\n",
       "      <td>1</td>\n",
       "      <td>1</td>\n",
       "      <td>0</td>\n",
       "    </tr>\n",
       "    <tr>\n",
       "      <th>2</th>\n",
       "      <td>16</td>\n",
       "      <td>0</td>\n",
       "      <td>0</td>\n",
       "      <td>0</td>\n",
       "      <td>0</td>\n",
       "      <td>0</td>\n",
       "      <td>0</td>\n",
       "      <td>0</td>\n",
       "      <td>0</td>\n",
       "      <td>1</td>\n",
       "      <td>...</td>\n",
       "      <td>0</td>\n",
       "      <td>0</td>\n",
       "      <td>0</td>\n",
       "      <td>0</td>\n",
       "      <td>0</td>\n",
       "      <td>1</td>\n",
       "      <td>0</td>\n",
       "      <td>1</td>\n",
       "      <td>1</td>\n",
       "      <td>1</td>\n",
       "    </tr>\n",
       "    <tr>\n",
       "      <th>3</th>\n",
       "      <td>14</td>\n",
       "      <td>0</td>\n",
       "      <td>0</td>\n",
       "      <td>0</td>\n",
       "      <td>0</td>\n",
       "      <td>0</td>\n",
       "      <td>0</td>\n",
       "      <td>0</td>\n",
       "      <td>0</td>\n",
       "      <td>0</td>\n",
       "      <td>...</td>\n",
       "      <td>0</td>\n",
       "      <td>0</td>\n",
       "      <td>0</td>\n",
       "      <td>0</td>\n",
       "      <td>0</td>\n",
       "      <td>1</td>\n",
       "      <td>0</td>\n",
       "      <td>1</td>\n",
       "      <td>0</td>\n",
       "      <td>1</td>\n",
       "    </tr>\n",
       "    <tr>\n",
       "      <th>4</th>\n",
       "      <td>18</td>\n",
       "      <td>0</td>\n",
       "      <td>0</td>\n",
       "      <td>0</td>\n",
       "      <td>0</td>\n",
       "      <td>0</td>\n",
       "      <td>0</td>\n",
       "      <td>0</td>\n",
       "      <td>1</td>\n",
       "      <td>0</td>\n",
       "      <td>...</td>\n",
       "      <td>0</td>\n",
       "      <td>0</td>\n",
       "      <td>1</td>\n",
       "      <td>0</td>\n",
       "      <td>0</td>\n",
       "      <td>0</td>\n",
       "      <td>0</td>\n",
       "      <td>1</td>\n",
       "      <td>0</td>\n",
       "      <td>1</td>\n",
       "    </tr>\n",
       "    <tr>\n",
       "      <th>...</th>\n",
       "      <td>...</td>\n",
       "      <td>...</td>\n",
       "      <td>...</td>\n",
       "      <td>...</td>\n",
       "      <td>...</td>\n",
       "      <td>...</td>\n",
       "      <td>...</td>\n",
       "      <td>...</td>\n",
       "      <td>...</td>\n",
       "      <td>...</td>\n",
       "      <td>...</td>\n",
       "      <td>...</td>\n",
       "      <td>...</td>\n",
       "      <td>...</td>\n",
       "      <td>...</td>\n",
       "      <td>...</td>\n",
       "      <td>...</td>\n",
       "      <td>...</td>\n",
       "      <td>...</td>\n",
       "      <td>...</td>\n",
       "      <td>...</td>\n",
       "    </tr>\n",
       "    <tr>\n",
       "      <th>124</th>\n",
       "      <td>8</td>\n",
       "      <td>0</td>\n",
       "      <td>0</td>\n",
       "      <td>0</td>\n",
       "      <td>1</td>\n",
       "      <td>0</td>\n",
       "      <td>0</td>\n",
       "      <td>0</td>\n",
       "      <td>0</td>\n",
       "      <td>0</td>\n",
       "      <td>...</td>\n",
       "      <td>0</td>\n",
       "      <td>0</td>\n",
       "      <td>0</td>\n",
       "      <td>0</td>\n",
       "      <td>0</td>\n",
       "      <td>0</td>\n",
       "      <td>1</td>\n",
       "      <td>1</td>\n",
       "      <td>1</td>\n",
       "      <td>1</td>\n",
       "    </tr>\n",
       "    <tr>\n",
       "      <th>125</th>\n",
       "      <td>12</td>\n",
       "      <td>0</td>\n",
       "      <td>0</td>\n",
       "      <td>0</td>\n",
       "      <td>1</td>\n",
       "      <td>0</td>\n",
       "      <td>0</td>\n",
       "      <td>0</td>\n",
       "      <td>0</td>\n",
       "      <td>0</td>\n",
       "      <td>...</td>\n",
       "      <td>0</td>\n",
       "      <td>0</td>\n",
       "      <td>0</td>\n",
       "      <td>0</td>\n",
       "      <td>1</td>\n",
       "      <td>0</td>\n",
       "      <td>0</td>\n",
       "      <td>1</td>\n",
       "      <td>1</td>\n",
       "      <td>1</td>\n",
       "    </tr>\n",
       "    <tr>\n",
       "      <th>126</th>\n",
       "      <td>14</td>\n",
       "      <td>0</td>\n",
       "      <td>0</td>\n",
       "      <td>0</td>\n",
       "      <td>1</td>\n",
       "      <td>0</td>\n",
       "      <td>0</td>\n",
       "      <td>0</td>\n",
       "      <td>0</td>\n",
       "      <td>0</td>\n",
       "      <td>...</td>\n",
       "      <td>0</td>\n",
       "      <td>0</td>\n",
       "      <td>0</td>\n",
       "      <td>1</td>\n",
       "      <td>0</td>\n",
       "      <td>0</td>\n",
       "      <td>0</td>\n",
       "      <td>1</td>\n",
       "      <td>1</td>\n",
       "      <td>1</td>\n",
       "    </tr>\n",
       "    <tr>\n",
       "      <th>127</th>\n",
       "      <td>8</td>\n",
       "      <td>0</td>\n",
       "      <td>0</td>\n",
       "      <td>0</td>\n",
       "      <td>1</td>\n",
       "      <td>0</td>\n",
       "      <td>0</td>\n",
       "      <td>1</td>\n",
       "      <td>0</td>\n",
       "      <td>0</td>\n",
       "      <td>...</td>\n",
       "      <td>0</td>\n",
       "      <td>0</td>\n",
       "      <td>0</td>\n",
       "      <td>0</td>\n",
       "      <td>0</td>\n",
       "      <td>0</td>\n",
       "      <td>1</td>\n",
       "      <td>1</td>\n",
       "      <td>0</td>\n",
       "      <td>1</td>\n",
       "    </tr>\n",
       "    <tr>\n",
       "      <th>128</th>\n",
       "      <td>12</td>\n",
       "      <td>0</td>\n",
       "      <td>0</td>\n",
       "      <td>0</td>\n",
       "      <td>1</td>\n",
       "      <td>0</td>\n",
       "      <td>0</td>\n",
       "      <td>1</td>\n",
       "      <td>0</td>\n",
       "      <td>0</td>\n",
       "      <td>...</td>\n",
       "      <td>0</td>\n",
       "      <td>0</td>\n",
       "      <td>0</td>\n",
       "      <td>0</td>\n",
       "      <td>1</td>\n",
       "      <td>0</td>\n",
       "      <td>0</td>\n",
       "      <td>0</td>\n",
       "      <td>0</td>\n",
       "      <td>1</td>\n",
       "    </tr>\n",
       "  </tbody>\n",
       "</table>\n",
       "<p>127 rows × 43 columns</p>\n",
       "</div>"
      ],
      "text/plain": [
       "     diameter  company_B  company_C  company_D  company_E  \\\n",
       "0          22          0          0          0          0   \n",
       "1          20          0          0          0          0   \n",
       "2          16          0          0          0          0   \n",
       "3          14          0          0          0          0   \n",
       "4          18          0          0          0          0   \n",
       "..        ...        ...        ...        ...        ...   \n",
       "124         8          0          0          0          1   \n",
       "125        12          0          0          0          1   \n",
       "126        14          0          0          0          1   \n",
       "127         8          0          0          0          1   \n",
       "128        12          0          0          0          1   \n",
       "\n",
       "     topping_black_papper  topping_chicken  topping_meat  topping_mozzarella  \\\n",
       "0                       0                1             0                   0   \n",
       "1                       0                0             0                   0   \n",
       "2                       0                0             0                   0   \n",
       "3                       0                0             0                   0   \n",
       "4                       0                0             0                   1   \n",
       "..                    ...              ...           ...                 ...   \n",
       "124                     0                0             0                   0   \n",
       "125                     0                0             0                   0   \n",
       "126                     0                0             0                   0   \n",
       "127                     0                0             1                   0   \n",
       "128                     0                0             1                   0   \n",
       "\n",
       "     topping_mushrooms  ...  variant_super_supreme  variant_thai_veggie  \\\n",
       "0                    0  ...                      0                    0   \n",
       "1                    0  ...                      0                    0   \n",
       "2                    1  ...                      0                    0   \n",
       "3                    0  ...                      0                    0   \n",
       "4                    0  ...                      0                    0   \n",
       "..                 ...  ...                    ...                  ...   \n",
       "124                  0  ...                      0                    0   \n",
       "125                  0  ...                      0                    0   \n",
       "126                  0  ...                      0                    0   \n",
       "127                  0  ...                      0                    0   \n",
       "128                  0  ...                      0                    0   \n",
       "\n",
       "     size_jumbo  size_large  size_medium  size_reguler  size_small  \\\n",
       "0             1           0            0             0           0   \n",
       "1             1           0            0             0           0   \n",
       "2             0           0            0             1           0   \n",
       "3             0           0            0             1           0   \n",
       "4             1           0            0             0           0   \n",
       "..          ...         ...          ...           ...         ...   \n",
       "124           0           0            0             0           1   \n",
       "125           0           0            1             0           0   \n",
       "126           0           1            0             0           0   \n",
       "127           0           0            0             0           1   \n",
       "128           0           0            1             0           0   \n",
       "\n",
       "     extra_sauce_yes  extra_cheese_yes  extra_mushrooms_yes  \n",
       "0                  1                 1                    0  \n",
       "1                  1                 1                    0  \n",
       "2                  1                 1                    1  \n",
       "3                  1                 0                    1  \n",
       "4                  1                 0                    1  \n",
       "..               ...               ...                  ...  \n",
       "124                1                 1                    1  \n",
       "125                1                 1                    1  \n",
       "126                1                 1                    1  \n",
       "127                1                 0                    1  \n",
       "128                0                 0                    1  \n",
       "\n",
       "[127 rows x 43 columns]"
      ]
     },
     "execution_count": 33,
     "metadata": {},
     "output_type": "execute_result"
    }
   ],
   "source": [
    "x1=df.iloc[:,[0,2,3,4,5,6,7,8]]\n",
    "x=pd.get_dummies(x1,drop_first=True).astype(int)\n",
    "x"
   ]
  },
  {
   "cell_type": "code",
   "execution_count": 34,
   "id": "7b30b3c3",
   "metadata": {},
   "outputs": [
    {
     "data": {
      "text/html": [
       "<div>\n",
       "<style scoped>\n",
       "    .dataframe tbody tr th:only-of-type {\n",
       "        vertical-align: middle;\n",
       "    }\n",
       "\n",
       "    .dataframe tbody tr th {\n",
       "        vertical-align: top;\n",
       "    }\n",
       "\n",
       "    .dataframe thead th {\n",
       "        text-align: right;\n",
       "    }\n",
       "</style>\n",
       "<table border=\"1\" class=\"dataframe\">\n",
       "  <thead>\n",
       "    <tr style=\"text-align: right;\">\n",
       "      <th></th>\n",
       "      <th>price_rupiah</th>\n",
       "    </tr>\n",
       "  </thead>\n",
       "  <tbody>\n",
       "    <tr>\n",
       "      <th>0</th>\n",
       "      <td>12.367341</td>\n",
       "    </tr>\n",
       "    <tr>\n",
       "      <th>1</th>\n",
       "      <td>12.196022</td>\n",
       "    </tr>\n",
       "    <tr>\n",
       "      <th>2</th>\n",
       "      <td>11.695247</td>\n",
       "    </tr>\n",
       "    <tr>\n",
       "      <th>3</th>\n",
       "      <td>11.951180</td>\n",
       "    </tr>\n",
       "    <tr>\n",
       "      <th>4</th>\n",
       "      <td>12.421184</td>\n",
       "    </tr>\n",
       "    <tr>\n",
       "      <th>...</th>\n",
       "      <td>...</td>\n",
       "    </tr>\n",
       "    <tr>\n",
       "      <th>124</th>\n",
       "      <td>10.571317</td>\n",
       "    </tr>\n",
       "    <tr>\n",
       "      <th>125</th>\n",
       "      <td>11.184421</td>\n",
       "    </tr>\n",
       "    <tr>\n",
       "      <th>126</th>\n",
       "      <td>11.502875</td>\n",
       "    </tr>\n",
       "    <tr>\n",
       "      <th>127</th>\n",
       "      <td>10.691945</td>\n",
       "    </tr>\n",
       "    <tr>\n",
       "      <th>128</th>\n",
       "      <td>11.264464</td>\n",
       "    </tr>\n",
       "  </tbody>\n",
       "</table>\n",
       "<p>127 rows × 1 columns</p>\n",
       "</div>"
      ],
      "text/plain": [
       "     price_rupiah\n",
       "0       12.367341\n",
       "1       12.196022\n",
       "2       11.695247\n",
       "3       11.951180\n",
       "4       12.421184\n",
       "..            ...\n",
       "124     10.571317\n",
       "125     11.184421\n",
       "126     11.502875\n",
       "127     10.691945\n",
       "128     11.264464\n",
       "\n",
       "[127 rows x 1 columns]"
      ]
     },
     "execution_count": 34,
     "metadata": {},
     "output_type": "execute_result"
    }
   ],
   "source": [
    "y1=df.price_rupiah\n",
    "y=pd.DataFrame(y1)\n",
    "y"
   ]
  },
  {
   "cell_type": "code",
   "execution_count": 35,
   "id": "5666ec6a",
   "metadata": {},
   "outputs": [],
   "source": [
    "# load the library for spliting \n",
    "from sklearn.model_selection import train_test_split\n",
    "x_train,x_test,y_train,y_test,=train_test_split(x,y,test_size=0.20,random_state=0)  #train_size is 80%"
   ]
  },
  {
   "cell_type": "code",
   "execution_count": 36,
   "id": "1ce3ae99",
   "metadata": {},
   "outputs": [],
   "source": [
    "from sklearn.preprocessing import StandardScaler\n",
    "\n",
    "sc_x=StandardScaler()\n",
    "x_train=sc_x.fit_transform(x_train)    #only for train we use fit\n",
    "x_test=sc_x.transform(x_test)          # don't use fit for test data"
   ]
  },
  {
   "cell_type": "markdown",
   "id": "6a1ee37e",
   "metadata": {},
   "source": [
    "## SGD Regressor"
   ]
  },
  {
   "cell_type": "code",
   "execution_count": 37,
   "id": "9c1690dc",
   "metadata": {},
   "outputs": [
    {
     "name": "stdout",
     "output_type": "stream",
     "text": [
      "R-squared = 0.8960450911709059\n"
     ]
    }
   ],
   "source": [
    "# after standartizing build the model\n",
    "# building the model\n",
    "from sklearn.linear_model import SGDRegressor\n",
    "sgdr=SGDRegressor()\n",
    "sgdr.fit(x_train,y_train)\n",
    "score=sgdr.score(x_train,y_train)\n",
    "print('R-squared =',score)"
   ]
  },
  {
   "cell_type": "code",
   "execution_count": 38,
   "id": "4c3ac9a1",
   "metadata": {},
   "outputs": [
    {
     "data": {
      "text/plain": [
       "0.8647823572248725"
      ]
     },
     "execution_count": 38,
     "metadata": {},
     "output_type": "execute_result"
    }
   ],
   "source": [
    "from sklearn.metrics import r2_score\n",
    "y_test_pred=sgdr.predict(x_test)\n",
    "r2_score(y_test,y_test_pred)"
   ]
  },
  {
   "cell_type": "code",
   "execution_count": 39,
   "id": "0a4aad6f",
   "metadata": {},
   "outputs": [
    {
     "name": "stdout",
     "output_type": "stream",
     "text": [
      "MSE = 0.037605396772845634\n",
      "RMSE = 0.19392110966278436\n"
     ]
    }
   ],
   "source": [
    "# prediction\n",
    "y_pred=sgdr.predict(x_test)\n",
    "\n",
    "# evaluating the prediction\n",
    "\n",
    "from sklearn.metrics import mean_squared_error          # to find the MSE (error)\n",
    "mse=mean_squared_error(y_test,y_pred)\n",
    "print('MSE =',mse)\n",
    "print('RMSE =',np.sqrt(mse))"
   ]
  },
  {
   "cell_type": "code",
   "execution_count": 40,
   "id": "8e9dc8f7",
   "metadata": {},
   "outputs": [
    {
     "name": "stdout",
     "output_type": "stream",
     "text": [
      "11.340233877461289\n"
     ]
    }
   ],
   "source": [
    "print(y_pred[0])"
   ]
  },
  {
   "cell_type": "code",
   "execution_count": 41,
   "id": "1bcd2b1b",
   "metadata": {},
   "outputs": [
    {
     "name": "stdout",
     "output_type": "stream",
     "text": [
      "[-0.24924291 -0.51234754 -0.55829053 -0.40114778 -0.55829053 -0.17496355\n",
      " -0.527713   -0.27288841 -0.43386092  2.30488611  0.         -0.1\n",
      " -0.17496355 -0.44986771 -0.27288841 -0.27288841 -0.17496355 -0.14213381\n",
      "  5.71547607 -0.57353933 -0.27288841 -0.25131234 -0.27288841 -0.20306923\n",
      " -0.14213381 -0.14213381 -0.17496355 -0.17496355 -0.31277162 -0.14213381\n",
      " -0.29329423 -0.17496355 -0.14213381 -0.20306923 -0.14213381 -0.36719404\n",
      " -0.44986771 -0.66547513  2.394438   -0.46569032  0.80977633 -1.57567719\n",
      "  0.93293642]\n"
     ]
    }
   ],
   "source": [
    "print(x_test[0])"
   ]
  },
  {
   "cell_type": "markdown",
   "id": "90b20483",
   "metadata": {},
   "source": [
    "## Linear regression"
   ]
  },
  {
   "cell_type": "code",
   "execution_count": 42,
   "id": "a9191b51",
   "metadata": {
    "scrolled": true
   },
   "outputs": [
    {
     "name": "stdout",
     "output_type": "stream",
     "text": [
      "train_mse = 0.024310193292428266\n",
      "test_mse = 0.039589390013031335\n",
      "train_r2_score = 0.9050652685952008\n",
      "test_r2_score = 0.8576485170784653\n"
     ]
    }
   ],
   "source": [
    "from sklearn.linear_model import LinearRegression\n",
    "lr=LinearRegression()\n",
    "lr.fit(x_train,y_train)\n",
    "train_pred=lr.predict(x_train)\n",
    "test_pred=lr.predict(x_test)\n",
    "\n",
    "#Now will check the MSE of the model\n",
    "train_mse=mean_squared_error(y_train,train_pred)\n",
    "test_mse=mean_squared_error(y_test,test_pred)\n",
    "print('train_mse =',train_mse)\n",
    "print('test_mse =',test_mse)\n",
    "\n",
    "# Now will check the r2_score \n",
    "train_r2_score=r2_score(y_train,train_pred)\n",
    "test_r2_score=r2_score(y_test,test_pred)\n",
    "print('train_r2_score =',train_r2_score)\n",
    "print('test_r2_score =',test_r2_score)"
   ]
  },
  {
   "cell_type": "code",
   "execution_count": 43,
   "id": "9c24bf45",
   "metadata": {},
   "outputs": [
    {
     "name": "stdout",
     "output_type": "stream",
     "text": [
      "[0.53381709 0.93470211 0.87719736 0.29471646 0.93409907 0.77577756\n",
      " 0.93321874 0.48591001 0.80764657 0.44229295]\n",
      "0.7019377921347728\n"
     ]
    }
   ],
   "source": [
    "from sklearn.model_selection import KFold\n",
    "from sklearn.model_selection import cross_val_score\n",
    "\n",
    "model=LinearRegression()\n",
    "kfold_validation=KFold(10)\n",
    "\n",
    "results=cross_val_score(model,x,y,cv=kfold_validation)\n",
    "print(results)\n",
    "print(np.mean(results))"
   ]
  },
  {
   "cell_type": "markdown",
   "id": "0ef9da3c",
   "metadata": {},
   "source": [
    "## Decision Tree"
   ]
  },
  {
   "cell_type": "code",
   "execution_count": 44,
   "id": "d999c88d",
   "metadata": {},
   "outputs": [],
   "source": [
    "from sklearn.tree import DecisionTreeRegressor"
   ]
  },
  {
   "cell_type": "code",
   "execution_count": 45,
   "id": "babb2caa",
   "metadata": {},
   "outputs": [
    {
     "data": {
      "text/plain": [
       "DecisionTreeRegressor(random_state=0)"
      ]
     },
     "execution_count": 45,
     "metadata": {},
     "output_type": "execute_result"
    }
   ],
   "source": [
    "model1=DecisionTreeRegressor(random_state=0)\n",
    "model1.fit(x_train,y_train)"
   ]
  },
  {
   "cell_type": "code",
   "execution_count": 46,
   "id": "fdc1135b",
   "metadata": {},
   "outputs": [
    {
     "data": {
      "image/png": "[encoded data removed]",
      "text/plain": [
       "<Figure size 1500x750 with 1 Axes>"
      ]
     },
     "metadata": {},
     "output_type": "display_data"
    },
    {
     "data": {
      "text/plain": [
       "<Figure size 640x480 with 0 Axes>"
      ]
     },
     "metadata": {},
     "output_type": "display_data"
    }
   ],
   "source": [
    "# Note will plot the tree and see its depth\n",
    "from sklearn.tree import plot_tree\n",
    "plt.figure(figsize=(15,7.5))\n",
    "plot_tree(model1,filled=True,class_names=['No HD','Yes HD'],feature_names=x.columns.to_list())\n",
    "plt.show()\n",
    "plt.savefig('image')"
   ]
  },
  {
   "cell_type": "code",
   "execution_count": 47,
   "id": "f8c1f20d",
   "metadata": {},
   "outputs": [],
   "source": [
    "ytrain_pred = model1.predict(x_train)\n",
    "ytest_pred = model1.predict(x_test)"
   ]
  },
  {
   "cell_type": "code",
   "execution_count": 48,
   "id": "be829168",
   "metadata": {},
   "outputs": [
    {
     "name": "stdout",
     "output_type": "stream",
     "text": [
      "Training Score 1.0, Testing Score 0.87\n"
     ]
    }
   ],
   "source": [
    "# Model Evaluation\n",
    "\n",
    "train_score = model1.score(x_train,y_train)\n",
    "test_score = model1.score(x_test,y_test)\n",
    "print(f'Training Score {round(train_score,2)}, Testing Score {round(test_score,2)}')"
   ]
  },
  {
   "cell_type": "code",
   "execution_count": 49,
   "id": "6dd89044",
   "metadata": {},
   "outputs": [
    {
     "name": "stdout",
     "output_type": "stream",
     "text": [
      "R-squared train: 1.0\n",
      "R-squared test: 0.8728507579369728\n"
     ]
    }
   ],
   "source": [
    "from sklearn.metrics import r2_score\n",
    "\n",
    "# Assuming y_train and y_train_pred are your true and predicted target values, respectively\n",
    "\n",
    "r2train = r2_score(y_train, ytrain_pred)\n",
    "r2test= r2_score(y_test,ytest_pred)\n",
    "\n",
    "print(\"R-squared train:\", r2train)\n",
    "print(\"R-squared test:\", r2test)"
   ]
  },
  {
   "cell_type": "code",
   "execution_count": 50,
   "id": "294aaf46",
   "metadata": {},
   "outputs": [
    {
     "data": {
      "text/plain": [
       "{'ccp_alphas': array([0.00000000e+00, 5.62806127e-16, 5.62806127e-16, 8.44209191e-16,\n",
       "        8.44209191e-16, 2.25122451e-15, 3.65823983e-15, 5.10250724e-07,\n",
       "        6.80334299e-07, 1.15799361e-06, 3.05291659e-06, 5.23827267e-06,\n",
       "        7.79454173e-06, 7.85740900e-06, 1.15747468e-05, 1.19559127e-05,\n",
       "        1.61736845e-05, 2.69659585e-05, 3.45193674e-05, 3.87009410e-05,\n",
       "        3.95205308e-05, 4.74246370e-05, 5.19370407e-05, 5.38503885e-05,\n",
       "        6.42956941e-05, 7.70002496e-05, 7.72949168e-05, 8.04720839e-05,\n",
       "        1.08931918e-04, 1.49997748e-04, 2.19413532e-04, 2.39882094e-04,\n",
       "        3.01143410e-04, 3.34548966e-04, 4.01524667e-04, 4.47133143e-04,\n",
       "        4.83508215e-04, 5.32343430e-04, 6.37613811e-04, 6.60205920e-04,\n",
       "        7.52603481e-04, 9.05258768e-04, 9.57285433e-04, 1.00530589e-03,\n",
       "        1.16947416e-03, 1.19263311e-03, 1.52087991e-03, 1.63444706e-03,\n",
       "        1.72422161e-03, 2.16264426e-03, 2.92475147e-03, 2.94766582e-03,\n",
       "        4.08158687e-03, 6.46693514e-03, 1.01439942e-02, 2.11556774e-02,\n",
       "        2.17422295e-02, 5.58450175e-02, 1.06844626e-01]),\n",
       " 'impurities': array([-9.28630110e-15, -8.72349497e-15, -8.16068885e-15, -7.31647966e-15,\n",
       "        -6.47227046e-15, -4.22104596e-15, -5.62806127e-16,  5.10250724e-07,\n",
       "         1.19058502e-06,  2.34857863e-06,  5.40149522e-06,  1.06397679e-05,\n",
       "         1.84343096e-05,  2.62917186e-05,  3.78664654e-05,  4.98223781e-05,\n",
       "         6.59960626e-05,  9.29620212e-05,  1.27481389e-04,  1.66182330e-04,\n",
       "         2.05702860e-04,  2.53127497e-04,  3.05064538e-04,  3.58914927e-04,\n",
       "         4.23210621e-04,  5.00210870e-04,  6.54800704e-04,  7.35272788e-04,\n",
       "         8.44204706e-04,  9.94202454e-04,  1.21361599e-03,  1.45349808e-03,\n",
       "         1.75464149e-03,  2.08919046e-03,  2.49071512e-03,  3.38498141e-03,\n",
       "         3.86848963e-03,  4.40083306e-03,  5.67606068e-03,  6.33626660e-03,\n",
       "         7.08887008e-03,  7.99412885e-03,  8.95141428e-03,  9.95672017e-03,\n",
       "         1.11261943e-02,  1.23188274e-02,  1.38397073e-02,  1.71086015e-02,\n",
       "         1.88328231e-02,  2.09954673e-02,  2.68449703e-02,  2.97926361e-02,\n",
       "         3.38742230e-02,  4.03411581e-02,  5.04851523e-02,  7.16408297e-02,\n",
       "         9.33830592e-02,  1.49228077e-01,  2.56072703e-01])}"
      ]
     },
     "execution_count": 50,
     "metadata": {},
     "output_type": "execute_result"
    }
   ],
   "source": [
    "a = model1.cost_complexity_pruning_path(x_train,y_train) \n",
    "a"
   ]
  },
  {
   "cell_type": "code",
   "execution_count": 51,
   "id": "8d3b5e86",
   "metadata": {},
   "outputs": [
    {
     "data": {
      "text/plain": [
       "array([0.00000000e+00, 5.62806127e-16, 5.62806127e-16, 8.44209191e-16,\n",
       "       8.44209191e-16, 2.25122451e-15, 3.65823983e-15, 5.10250724e-07,\n",
       "       6.80334299e-07, 1.15799361e-06, 3.05291659e-06, 5.23827267e-06,\n",
       "       7.79454173e-06, 7.85740900e-06, 1.15747468e-05, 1.19559127e-05,\n",
       "       1.61736845e-05, 2.69659585e-05, 3.45193674e-05, 3.87009410e-05,\n",
       "       3.95205308e-05, 4.74246370e-05, 5.19370407e-05, 5.38503885e-05,\n",
       "       6.42956941e-05, 7.70002496e-05, 7.72949168e-05, 8.04720839e-05,\n",
       "       1.08931918e-04, 1.49997748e-04, 2.19413532e-04, 2.39882094e-04,\n",
       "       3.01143410e-04, 3.34548966e-04, 4.01524667e-04, 4.47133143e-04,\n",
       "       4.83508215e-04, 5.32343430e-04, 6.37613811e-04, 6.60205920e-04,\n",
       "       7.52603481e-04, 9.05258768e-04, 9.57285433e-04, 1.00530589e-03,\n",
       "       1.16947416e-03, 1.19263311e-03, 1.52087991e-03, 1.63444706e-03,\n",
       "       1.72422161e-03, 2.16264426e-03, 2.92475147e-03, 2.94766582e-03,\n",
       "       4.08158687e-03, 6.46693514e-03, 1.01439942e-02, 2.11556774e-02,\n",
       "       2.17422295e-02, 5.58450175e-02])"
      ]
     },
     "execution_count": 51,
     "metadata": {},
     "output_type": "execute_result"
    }
   ],
   "source": [
    "a['ccp_alphas'][0:-1]"
   ]
  },
  {
   "cell_type": "code",
   "execution_count": 52,
   "id": "9a30d7f6",
   "metadata": {},
   "outputs": [],
   "source": [
    "path=model1.cost_complexity_pruning_path(x_train,y_train)    # determine values for alpha\n",
    "ccp_alphas= path.ccp_alphas   # extract different values for alpha\n",
    "ccp_alphas = ccp_alphas[:-1]  # extract the maximum value for alpha"
   ]
  },
  {
   "cell_type": "code",
   "execution_count": 53,
   "id": "ed509282",
   "metadata": {},
   "outputs": [],
   "source": [
    "models =[]  # create an array that we will put decision trees into\n",
    "\n",
    "## now create one decision tree per value for alpha and store it in the array\n",
    "for i in ccp_alphas:\n",
    "    model2=DecisionTreeRegressor(random_state=0,ccp_alpha=i)\n",
    "    model2.fit(x_train,y_train)\n",
    "    models.append(model2)"
   ]
  },
  {
   "cell_type": "code",
   "execution_count": 54,
   "id": "3701fb23",
   "metadata": {},
   "outputs": [
    {
     "data": {
      "text/plain": [
       "[DecisionTreeRegressor(random_state=0),\n",
       " DecisionTreeRegressor(ccp_alpha=5.628061273347328e-16, random_state=0),\n",
       " DecisionTreeRegressor(ccp_alpha=5.628061273347328e-16, random_state=0),\n",
       " DecisionTreeRegressor(ccp_alpha=8.442091910020992e-16, random_state=0),\n",
       " DecisionTreeRegressor(ccp_alpha=8.442091910020992e-16, random_state=0),\n",
       " DecisionTreeRegressor(ccp_alpha=2.2512245093389313e-15, random_state=0),\n",
       " DecisionTreeRegressor(ccp_alpha=3.6582398276757634e-15, random_state=0),\n",
       " DecisionTreeRegressor(ccp_alpha=5.102507244184453e-07, random_state=0),\n",
       " DecisionTreeRegressor(ccp_alpha=6.803342992245936e-07, random_state=0),\n",
       " DecisionTreeRegressor(ccp_alpha=1.1579936074325598e-06, random_state=0),\n",
       " DecisionTreeRegressor(ccp_alpha=3.0529165888373705e-06, random_state=0),\n",
       " DecisionTreeRegressor(ccp_alpha=5.23827266686855e-06, random_state=0),\n",
       " DecisionTreeRegressor(ccp_alpha=7.794541734076101e-06, random_state=0),\n",
       " DecisionTreeRegressor(ccp_alpha=7.857409000865632e-06, random_state=0),\n",
       " DecisionTreeRegressor(ccp_alpha=1.1574746766015805e-05, random_state=0),\n",
       " DecisionTreeRegressor(ccp_alpha=1.1955912736599959e-05, random_state=0),\n",
       " DecisionTreeRegressor(ccp_alpha=1.6173684518422657e-05, random_state=0),\n",
       " DecisionTreeRegressor(ccp_alpha=2.6965958533713157e-05, random_state=0),\n",
       " DecisionTreeRegressor(ccp_alpha=3.4519367435416714e-05, random_state=0),\n",
       " DecisionTreeRegressor(ccp_alpha=3.870094096270696e-05, random_state=0),\n",
       " DecisionTreeRegressor(ccp_alpha=3.952053078948963e-05, random_state=0),\n",
       " DecisionTreeRegressor(ccp_alpha=4.742463695076439e-05, random_state=0),\n",
       " DecisionTreeRegressor(ccp_alpha=5.193704067373306e-05, random_state=0),\n",
       " DecisionTreeRegressor(ccp_alpha=5.385038852438973e-05, random_state=0),\n",
       " DecisionTreeRegressor(ccp_alpha=6.429569412382467e-05, random_state=0),\n",
       " DecisionTreeRegressor(ccp_alpha=7.700024963832905e-05, random_state=0),\n",
       " DecisionTreeRegressor(ccp_alpha=7.729491683702767e-05, random_state=0),\n",
       " DecisionTreeRegressor(ccp_alpha=8.047208391735356e-05, random_state=0),\n",
       " DecisionTreeRegressor(ccp_alpha=0.00010893191768131786, random_state=0),\n",
       " DecisionTreeRegressor(ccp_alpha=0.00014999774847922816, random_state=0),\n",
       " DecisionTreeRegressor(ccp_alpha=0.0002194135318252494, random_state=0),\n",
       " DecisionTreeRegressor(ccp_alpha=0.00023988209428923686, random_state=0),\n",
       " DecisionTreeRegressor(ccp_alpha=0.0003011434104962518, random_state=0),\n",
       " DecisionTreeRegressor(ccp_alpha=0.0003345489660769698, random_state=0),\n",
       " DecisionTreeRegressor(ccp_alpha=0.00040152466661115484, random_state=0),\n",
       " DecisionTreeRegressor(ccp_alpha=0.00044713314333700725, random_state=0),\n",
       " DecisionTreeRegressor(ccp_alpha=0.0004835082151887468, random_state=0),\n",
       " DecisionTreeRegressor(ccp_alpha=0.0005323434298973795, random_state=0),\n",
       " DecisionTreeRegressor(ccp_alpha=0.0006376138112085415, random_state=0),\n",
       " DecisionTreeRegressor(ccp_alpha=0.0006602059196706191, random_state=0),\n",
       " DecisionTreeRegressor(ccp_alpha=0.0007526034809928877, random_state=0),\n",
       " DecisionTreeRegressor(ccp_alpha=0.0009052587684010123, random_state=0),\n",
       " DecisionTreeRegressor(ccp_alpha=0.0009572854330215396, random_state=0),\n",
       " DecisionTreeRegressor(ccp_alpha=0.0010053058909323459, random_state=0),\n",
       " DecisionTreeRegressor(ccp_alpha=0.001169474155069216, random_state=0),\n",
       " DecisionTreeRegressor(ccp_alpha=0.0011926331149368535, random_state=0),\n",
       " DecisionTreeRegressor(ccp_alpha=0.0015208799055333449, random_state=0),\n",
       " DecisionTreeRegressor(ccp_alpha=0.001634447060286598, random_state=0),\n",
       " DecisionTreeRegressor(ccp_alpha=0.0017242216149133422, random_state=0),\n",
       " DecisionTreeRegressor(ccp_alpha=0.0021626442583890255, random_state=0),\n",
       " DecisionTreeRegressor(ccp_alpha=0.002924751474252092, random_state=0),\n",
       " DecisionTreeRegressor(ccp_alpha=0.002947665815355268, random_state=0),\n",
       " DecisionTreeRegressor(ccp_alpha=0.004081586868721843, random_state=0),\n",
       " DecisionTreeRegressor(ccp_alpha=0.006466935135925174, random_state=0),\n",
       " DecisionTreeRegressor(ccp_alpha=0.010143994206277786, random_state=0),\n",
       " DecisionTreeRegressor(ccp_alpha=0.021155677376029164, random_state=0),\n",
       " DecisionTreeRegressor(ccp_alpha=0.021742229509531752, random_state=0),\n",
       " DecisionTreeRegressor(ccp_alpha=0.05584501745035661, random_state=0)]"
      ]
     },
     "execution_count": 54,
     "metadata": {},
     "output_type": "execute_result"
    }
   ],
   "source": [
    "models"
   ]
  },
  {
   "cell_type": "code",
   "execution_count": 55,
   "id": "02853b7a",
   "metadata": {},
   "outputs": [
    {
     "data": {
      "image/png": "[encoded data removed]",
      "text/plain": [
       "<Figure size 640x480 with 1 Axes>"
      ]
     },
     "metadata": {},
     "output_type": "display_data"
    }
   ],
   "source": [
    "train_scores=[model.score(x_train,y_train) for model in models]\n",
    "test_scores=[model.score(x_test,y_test) for model in models]\n",
    "\n",
    "\n",
    "plt.plot(ccp_alphas,train_scores,marker='o',label='train')\n",
    "plt.plot(ccp_alphas,test_scores,marker='o',label='test')\n",
    "plt.xlabel('alpha')\n",
    "plt.ylabel('accuracy')\n",
    "plt.legend()\n",
    "plt.show()"
   ]
  },
  {
   "cell_type": "code",
   "execution_count": 56,
   "id": "4dcec66d",
   "metadata": {},
   "outputs": [
    {
     "data": {
      "image/png": "[encoded data removed]",
      "text/plain": [
       "<Figure size 1800x600 with 1 Axes>"
      ]
     },
     "metadata": {},
     "output_type": "display_data"
    }
   ],
   "source": [
    "train_scores=[model.score(x_train,y_train) for model in models]\n",
    "test_scores=[model.score(x_test,y_test) for model in models]\n",
    "\n",
    "plt.figure(figsize=(18,6))\n",
    "plt.plot(ccp_alphas,train_scores,marker='o',label='train',drawstyle='steps-post')\n",
    "plt.plot(ccp_alphas,test_scores,marker='o',label='test',drawstyle='steps-post')\n",
    "plt.xlabel('alpha')\n",
    "plt.ylabel('accuracy')\n",
    "plt.xticks([0.0,0.01,0.02,0.0212,0.03,0.04,0.05])\n",
    "plt.grid()\n",
    "plt.legend()\n",
    "plt.show()"
   ]
  },
  {
   "cell_type": "code",
   "execution_count": 57,
   "id": "435356e8",
   "metadata": {},
   "outputs": [],
   "source": [
    "model3 = DecisionTreeRegressor(random_state=0,ccp_alpha=0.0212)"
   ]
  },
  {
   "cell_type": "code",
   "execution_count": 58,
   "id": "c577b308",
   "metadata": {},
   "outputs": [
    {
     "name": "stdout",
     "output_type": "stream",
     "text": [
      "Training Score 0.72, Testing Score 0.75\n"
     ]
    }
   ],
   "source": [
    "model3.fit(x_train,y_train)\n",
    "train_score = model3.score(x_train,y_train)\n",
    "test_score = model3.score(x_test,y_test)\n",
    "print(f'Training Score {round(train_score,2)}, Testing Score {round(test_score,2)}')"
   ]
  },
  {
   "cell_type": "code",
   "execution_count": 59,
   "id": "298c13ec",
   "metadata": {},
   "outputs": [
    {
     "data": {
      "text/plain": [
       "<AxesSubplot:xlabel='tree'>"
      ]
     },
     "execution_count": 59,
     "metadata": {},
     "output_type": "execute_result"
    },
    {
     "data": {
      "image/png": "[encoded data removed]",
      "text/plain": [
       "<Figure size 640x480 with 1 Axes>"
      ]
     },
     "metadata": {},
     "output_type": "display_data"
    }
   ],
   "source": [
    "scores=cross_val_score(model3,x_train,y_train,cv=10)\n",
    "df=pd.DataFrame(data={'tree':range(1,11),'accuracy':scores})\n",
    "\n",
    "df.plot(x='tree',y='accuracy',marker='o',linestyle='--')"
   ]
  },
  {
   "cell_type": "code",
   "execution_count": 60,
   "id": "d3c7b42b",
   "metadata": {},
   "outputs": [
    {
     "name": "stdout",
     "output_type": "stream",
     "text": [
      "[-0.58580837  0.70414146  0.81737181  0.48359758  0.75955748  0.79490397\n",
      "  0.68788031  0.54438625  0.59900286  0.45379002]\n",
      "0.5258823377434221\n"
     ]
    }
   ],
   "source": [
    "print(scores)\n",
    "print(scores.mean())"
   ]
  },
  {
   "cell_type": "code",
   "execution_count": 61,
   "id": "f0b8d7aa",
   "metadata": {},
   "outputs": [
    {
     "data": {
      "text/plain": [
       "array([0.00000000e+00, 5.62806127e-16, 5.62806127e-16, 8.44209191e-16,\n",
       "       8.44209191e-16, 2.25122451e-15, 3.65823983e-15, 5.10250724e-07,\n",
       "       6.80334299e-07, 1.15799361e-06, 3.05291659e-06, 5.23827267e-06,\n",
       "       7.79454173e-06, 7.85740900e-06, 1.15747468e-05, 1.19559127e-05,\n",
       "       1.61736845e-05, 2.69659585e-05, 3.45193674e-05, 3.87009410e-05,\n",
       "       3.95205308e-05, 4.74246370e-05, 5.19370407e-05, 5.38503885e-05,\n",
       "       6.42956941e-05, 7.70002496e-05, 7.72949168e-05, 8.04720839e-05,\n",
       "       1.08931918e-04, 1.49997748e-04, 2.19413532e-04, 2.39882094e-04,\n",
       "       3.01143410e-04, 3.34548966e-04, 4.01524667e-04, 4.47133143e-04,\n",
       "       4.83508215e-04, 5.32343430e-04, 6.37613811e-04, 6.60205920e-04,\n",
       "       7.52603481e-04, 9.05258768e-04, 9.57285433e-04, 1.00530589e-03,\n",
       "       1.16947416e-03, 1.19263311e-03, 1.52087991e-03, 1.63444706e-03,\n",
       "       1.72422161e-03, 2.16264426e-03, 2.92475147e-03, 2.94766582e-03,\n",
       "       4.08158687e-03, 6.46693514e-03, 1.01439942e-02, 2.11556774e-02,\n",
       "       2.17422295e-02, 5.58450175e-02])"
      ]
     },
     "execution_count": 61,
     "metadata": {},
     "output_type": "execute_result"
    }
   ],
   "source": [
    "ccp_alphas"
   ]
  },
  {
   "cell_type": "code",
   "execution_count": 62,
   "id": "94dc593b",
   "metadata": {},
   "outputs": [
    {
     "data": {
      "image/png": "[encoded data removed]",
      "text/plain": [
       "<Figure size 640x480 with 1 Axes>"
      ]
     },
     "metadata": {},
     "output_type": "display_data"
    }
   ],
   "source": [
    "# create an array to store the results of each fold during cross validations\n",
    "alpha_loop_values=[]\n",
    "\n",
    "## For each candidate value for alpha, we will run 5-fold cross validation.\n",
    "## Then we will store the mean and standard deviation of the scores (The accuracy) for each call to cross_val_score in alpha_loop_values\n",
    "\n",
    "for i in ccp_alphas:\n",
    "    model4=DecisionTreeRegressor(random_state=0,ccp_alpha=i)\n",
    "    scores=cross_val_score(model4,x_train,y_train,cv=5)\n",
    "    alpha_loop_values.append([i,np.mean(scores),np.std(scores)])\n",
    "    \n",
    "## Now we can draw a graph of the means and standard deviations of the scores for each candidate  value for alpha\n",
    "\n",
    "alpha_results = pd.DataFrame(alpha_loop_values,columns=['alpha','mean_accuracy','std'])\n",
    "\n",
    "alpha_results.plot(x='alpha',y='mean_accuracy',yerr='std',marker='o',linestyle='--')\n",
    "plt.grid()\n",
    "plt.show()"
   ]
  },
  {
   "cell_type": "code",
   "execution_count": 63,
   "id": "80505394",
   "metadata": {},
   "outputs": [
    {
     "data": {
      "text/plain": [
       "[[0.0, 0.7675626060724277, 0.1402959225013421],\n",
       " [5.628061273347328e-16, 0.7675626060724277, 0.1402959225013421],\n",
       " [5.628061273347328e-16, 0.7675626060724277, 0.1402959225013421],\n",
       " [8.442091910020992e-16, 0.7675626060724277, 0.1402959225013421],\n",
       " [8.442091910020992e-16, 0.7675626060724277, 0.1402959225013421],\n",
       " [2.2512245093389313e-15, 0.7675626060724277, 0.1402959225013421],\n",
       " [3.6582398276757634e-15, 0.7675626060724277, 0.1402959225013421],\n",
       " [5.102507244184453e-07, 0.7675626060724277, 0.1402959225013421],\n",
       " [6.803342992245936e-07, 0.7675111128643491, 0.14025847047799417],\n",
       " [1.1579936074325598e-06, 0.7675094995887408, 0.14025726427392327],\n",
       " [3.0529165888373705e-06, 0.7672407971461072, 0.14008299317358705],\n",
       " [5.23827266686855e-06, 0.7671298809971425, 0.1400959915574413],\n",
       " [7.794541734076101e-06, 0.7668081698298391, 0.14073234192334963],\n",
       " [7.857409000865632e-06, 0.7668081698298391, 0.14073234192334963],\n",
       " [1.1574746766015805e-05, 0.7686028558944923, 0.14047830957316773],\n",
       " [1.1955912736599959e-05, 0.7686028558944923, 0.14047830957316773],\n",
       " [1.6173684518422657e-05, 0.7692232308681748, 0.1409072159020636],\n",
       " [2.6965958533713157e-05, 0.7749988807927244, 0.12890572651969032],\n",
       " [3.4519367435416714e-05, 0.7749020963695369, 0.1288347755301152],\n",
       " [3.870094096270696e-05, 0.7760121519233879, 0.12961916073176322],\n",
       " [3.952053078948963e-05, 0.7760121519233879, 0.12961916073176322],\n",
       " [4.742463695076439e-05, 0.7762379977922835, 0.129932733666523],\n",
       " [5.193704067373306e-05, 0.7762003808840756, 0.1299366711018317],\n",
       " [5.385038852438973e-05, 0.7762003808840756, 0.1299366711018317],\n",
       " [6.429569412382467e-05, 0.7748077231889845, 0.129112732383865],\n",
       " [7.700024963832905e-05, 0.7747218567698457, 0.12912101520135993],\n",
       " [7.729491683702767e-05, 0.7747218567698457, 0.12912101520135993],\n",
       " [8.047208391735356e-05, 0.7747218567698457, 0.12912101520135993],\n",
       " [0.00010893191768131786, 0.775133852274068, 0.12898813262459746],\n",
       " [0.00014999774847922816, 0.7728668645152972, 0.12740103253756724],\n",
       " [0.0002194135318252494, 0.7730322228327176, 0.12642736902675944],\n",
       " [0.00023988209428923686, 0.7745348840024542, 0.12775721689161484],\n",
       " [0.0003011434104962518, 0.7763733190196501, 0.12599609261969388],\n",
       " [0.0003345489660769698, 0.7820469145405577, 0.11503142299517025],\n",
       " [0.00040152466661115484, 0.781395537837053, 0.1172125126276791],\n",
       " [0.00044713314333700725, 0.772027548400911, 0.1199375225177331],\n",
       " [0.0004835082151887468, 0.7714673936314109, 0.1224402731168143],\n",
       " [0.0005323434298973795, 0.7724783225805908, 0.12215447842930065],\n",
       " [0.0006376138112085415, 0.7819080913354799, 0.10770830308888733],\n",
       " [0.0006602059196706191, 0.7889760809241985, 0.09524755623771146],\n",
       " [0.0007526034809928877, 0.7837484996372774, 0.09171388454962413],\n",
       " [0.0009052587684010123, 0.7738911621946508, 0.08883083930144305],\n",
       " [0.0009572854330215396, 0.7721695234841416, 0.09175060881647634],\n",
       " [0.0010053058909323459, 0.7717686598689681, 0.09126305389578378],\n",
       " [0.001169474155069216, 0.7714905173662526, 0.0914212038374814],\n",
       " [0.0011926331149368535, 0.7701474618390123, 0.09032002591002118],\n",
       " [0.0015208799055333449, 0.7865250923986583, 0.09159792813661942],\n",
       " [0.001634447060286598, 0.7972663278888934, 0.0596536817502779],\n",
       " [0.0017242216149133422, 0.7972663278888934, 0.0596536817502779],\n",
       " [0.0021626442583890255, 0.7964711517503802, 0.06124124882978483],\n",
       " [0.002924751474252092, 0.806534699966279, 0.07011918871839003],\n",
       " [0.002947665815355268, 0.806534699966279, 0.07011918871839003],\n",
       " [0.004081586868721843, 0.8145094155157068, 0.07022148439815845],\n",
       " [0.006466935135925174, 0.8050431274305787, 0.06679615542238909],\n",
       " [0.010143994206277786, 0.7433599534860738, 0.12525652136762677],\n",
       " [0.021155677376029164, 0.554109190872649, 0.2687397534540465],\n",
       " [0.021742229509531752, 0.520182664648497, 0.2417128708428442],\n",
       " [0.05584501745035661, 0.37908390245208273, 0.20433664685108927]]"
      ]
     },
     "execution_count": 63,
     "metadata": {},
     "output_type": "execute_result"
    }
   ],
   "source": [
    "alpha_loop_values"
   ]
  },
  {
   "cell_type": "code",
   "execution_count": 64,
   "id": "3e9f3eeb",
   "metadata": {},
   "outputs": [
    {
     "data": {
      "text/html": [
       "<div>\n",
       "<style scoped>\n",
       "    .dataframe tbody tr th:only-of-type {\n",
       "        vertical-align: middle;\n",
       "    }\n",
       "\n",
       "    .dataframe tbody tr th {\n",
       "        vertical-align: top;\n",
       "    }\n",
       "\n",
       "    .dataframe thead th {\n",
       "        text-align: right;\n",
       "    }\n",
       "</style>\n",
       "<table border=\"1\" class=\"dataframe\">\n",
       "  <thead>\n",
       "    <tr style=\"text-align: right;\">\n",
       "      <th></th>\n",
       "      <th>alpha</th>\n",
       "      <th>mean_accuracy</th>\n",
       "      <th>std</th>\n",
       "    </tr>\n",
       "  </thead>\n",
       "  <tbody>\n",
       "    <tr>\n",
       "      <th>0</th>\n",
       "      <td>0.000000e+00</td>\n",
       "      <td>0.767563</td>\n",
       "      <td>0.140296</td>\n",
       "    </tr>\n",
       "    <tr>\n",
       "      <th>1</th>\n",
       "      <td>5.628061e-16</td>\n",
       "      <td>0.767563</td>\n",
       "      <td>0.140296</td>\n",
       "    </tr>\n",
       "    <tr>\n",
       "      <th>2</th>\n",
       "      <td>5.628061e-16</td>\n",
       "      <td>0.767563</td>\n",
       "      <td>0.140296</td>\n",
       "    </tr>\n",
       "    <tr>\n",
       "      <th>3</th>\n",
       "      <td>8.442092e-16</td>\n",
       "      <td>0.767563</td>\n",
       "      <td>0.140296</td>\n",
       "    </tr>\n",
       "    <tr>\n",
       "      <th>4</th>\n",
       "      <td>8.442092e-16</td>\n",
       "      <td>0.767563</td>\n",
       "      <td>0.140296</td>\n",
       "    </tr>\n",
       "    <tr>\n",
       "      <th>5</th>\n",
       "      <td>2.251225e-15</td>\n",
       "      <td>0.767563</td>\n",
       "      <td>0.140296</td>\n",
       "    </tr>\n",
       "    <tr>\n",
       "      <th>6</th>\n",
       "      <td>3.658240e-15</td>\n",
       "      <td>0.767563</td>\n",
       "      <td>0.140296</td>\n",
       "    </tr>\n",
       "    <tr>\n",
       "      <th>7</th>\n",
       "      <td>5.102507e-07</td>\n",
       "      <td>0.767563</td>\n",
       "      <td>0.140296</td>\n",
       "    </tr>\n",
       "    <tr>\n",
       "      <th>8</th>\n",
       "      <td>6.803343e-07</td>\n",
       "      <td>0.767511</td>\n",
       "      <td>0.140258</td>\n",
       "    </tr>\n",
       "    <tr>\n",
       "      <th>9</th>\n",
       "      <td>1.157994e-06</td>\n",
       "      <td>0.767509</td>\n",
       "      <td>0.140257</td>\n",
       "    </tr>\n",
       "    <tr>\n",
       "      <th>10</th>\n",
       "      <td>3.052917e-06</td>\n",
       "      <td>0.767241</td>\n",
       "      <td>0.140083</td>\n",
       "    </tr>\n",
       "    <tr>\n",
       "      <th>11</th>\n",
       "      <td>5.238273e-06</td>\n",
       "      <td>0.767130</td>\n",
       "      <td>0.140096</td>\n",
       "    </tr>\n",
       "    <tr>\n",
       "      <th>12</th>\n",
       "      <td>7.794542e-06</td>\n",
       "      <td>0.766808</td>\n",
       "      <td>0.140732</td>\n",
       "    </tr>\n",
       "    <tr>\n",
       "      <th>13</th>\n",
       "      <td>7.857409e-06</td>\n",
       "      <td>0.766808</td>\n",
       "      <td>0.140732</td>\n",
       "    </tr>\n",
       "    <tr>\n",
       "      <th>14</th>\n",
       "      <td>1.157475e-05</td>\n",
       "      <td>0.768603</td>\n",
       "      <td>0.140478</td>\n",
       "    </tr>\n",
       "    <tr>\n",
       "      <th>15</th>\n",
       "      <td>1.195591e-05</td>\n",
       "      <td>0.768603</td>\n",
       "      <td>0.140478</td>\n",
       "    </tr>\n",
       "    <tr>\n",
       "      <th>16</th>\n",
       "      <td>1.617368e-05</td>\n",
       "      <td>0.769223</td>\n",
       "      <td>0.140907</td>\n",
       "    </tr>\n",
       "    <tr>\n",
       "      <th>17</th>\n",
       "      <td>2.696596e-05</td>\n",
       "      <td>0.774999</td>\n",
       "      <td>0.128906</td>\n",
       "    </tr>\n",
       "    <tr>\n",
       "      <th>18</th>\n",
       "      <td>3.451937e-05</td>\n",
       "      <td>0.774902</td>\n",
       "      <td>0.128835</td>\n",
       "    </tr>\n",
       "    <tr>\n",
       "      <th>19</th>\n",
       "      <td>3.870094e-05</td>\n",
       "      <td>0.776012</td>\n",
       "      <td>0.129619</td>\n",
       "    </tr>\n",
       "    <tr>\n",
       "      <th>20</th>\n",
       "      <td>3.952053e-05</td>\n",
       "      <td>0.776012</td>\n",
       "      <td>0.129619</td>\n",
       "    </tr>\n",
       "    <tr>\n",
       "      <th>21</th>\n",
       "      <td>4.742464e-05</td>\n",
       "      <td>0.776238</td>\n",
       "      <td>0.129933</td>\n",
       "    </tr>\n",
       "    <tr>\n",
       "      <th>22</th>\n",
       "      <td>5.193704e-05</td>\n",
       "      <td>0.776200</td>\n",
       "      <td>0.129937</td>\n",
       "    </tr>\n",
       "    <tr>\n",
       "      <th>23</th>\n",
       "      <td>5.385039e-05</td>\n",
       "      <td>0.776200</td>\n",
       "      <td>0.129937</td>\n",
       "    </tr>\n",
       "    <tr>\n",
       "      <th>24</th>\n",
       "      <td>6.429569e-05</td>\n",
       "      <td>0.774808</td>\n",
       "      <td>0.129113</td>\n",
       "    </tr>\n",
       "    <tr>\n",
       "      <th>25</th>\n",
       "      <td>7.700025e-05</td>\n",
       "      <td>0.774722</td>\n",
       "      <td>0.129121</td>\n",
       "    </tr>\n",
       "    <tr>\n",
       "      <th>26</th>\n",
       "      <td>7.729492e-05</td>\n",
       "      <td>0.774722</td>\n",
       "      <td>0.129121</td>\n",
       "    </tr>\n",
       "    <tr>\n",
       "      <th>27</th>\n",
       "      <td>8.047208e-05</td>\n",
       "      <td>0.774722</td>\n",
       "      <td>0.129121</td>\n",
       "    </tr>\n",
       "    <tr>\n",
       "      <th>28</th>\n",
       "      <td>1.089319e-04</td>\n",
       "      <td>0.775134</td>\n",
       "      <td>0.128988</td>\n",
       "    </tr>\n",
       "    <tr>\n",
       "      <th>29</th>\n",
       "      <td>1.499977e-04</td>\n",
       "      <td>0.772867</td>\n",
       "      <td>0.127401</td>\n",
       "    </tr>\n",
       "    <tr>\n",
       "      <th>30</th>\n",
       "      <td>2.194135e-04</td>\n",
       "      <td>0.773032</td>\n",
       "      <td>0.126427</td>\n",
       "    </tr>\n",
       "    <tr>\n",
       "      <th>31</th>\n",
       "      <td>2.398821e-04</td>\n",
       "      <td>0.774535</td>\n",
       "      <td>0.127757</td>\n",
       "    </tr>\n",
       "    <tr>\n",
       "      <th>32</th>\n",
       "      <td>3.011434e-04</td>\n",
       "      <td>0.776373</td>\n",
       "      <td>0.125996</td>\n",
       "    </tr>\n",
       "    <tr>\n",
       "      <th>33</th>\n",
       "      <td>3.345490e-04</td>\n",
       "      <td>0.782047</td>\n",
       "      <td>0.115031</td>\n",
       "    </tr>\n",
       "    <tr>\n",
       "      <th>34</th>\n",
       "      <td>4.015247e-04</td>\n",
       "      <td>0.781396</td>\n",
       "      <td>0.117213</td>\n",
       "    </tr>\n",
       "    <tr>\n",
       "      <th>35</th>\n",
       "      <td>4.471331e-04</td>\n",
       "      <td>0.772028</td>\n",
       "      <td>0.119938</td>\n",
       "    </tr>\n",
       "    <tr>\n",
       "      <th>36</th>\n",
       "      <td>4.835082e-04</td>\n",
       "      <td>0.771467</td>\n",
       "      <td>0.122440</td>\n",
       "    </tr>\n",
       "    <tr>\n",
       "      <th>37</th>\n",
       "      <td>5.323434e-04</td>\n",
       "      <td>0.772478</td>\n",
       "      <td>0.122154</td>\n",
       "    </tr>\n",
       "    <tr>\n",
       "      <th>38</th>\n",
       "      <td>6.376138e-04</td>\n",
       "      <td>0.781908</td>\n",
       "      <td>0.107708</td>\n",
       "    </tr>\n",
       "    <tr>\n",
       "      <th>39</th>\n",
       "      <td>6.602059e-04</td>\n",
       "      <td>0.788976</td>\n",
       "      <td>0.095248</td>\n",
       "    </tr>\n",
       "    <tr>\n",
       "      <th>40</th>\n",
       "      <td>7.526035e-04</td>\n",
       "      <td>0.783748</td>\n",
       "      <td>0.091714</td>\n",
       "    </tr>\n",
       "    <tr>\n",
       "      <th>41</th>\n",
       "      <td>9.052588e-04</td>\n",
       "      <td>0.773891</td>\n",
       "      <td>0.088831</td>\n",
       "    </tr>\n",
       "    <tr>\n",
       "      <th>42</th>\n",
       "      <td>9.572854e-04</td>\n",
       "      <td>0.772170</td>\n",
       "      <td>0.091751</td>\n",
       "    </tr>\n",
       "    <tr>\n",
       "      <th>43</th>\n",
       "      <td>1.005306e-03</td>\n",
       "      <td>0.771769</td>\n",
       "      <td>0.091263</td>\n",
       "    </tr>\n",
       "    <tr>\n",
       "      <th>44</th>\n",
       "      <td>1.169474e-03</td>\n",
       "      <td>0.771491</td>\n",
       "      <td>0.091421</td>\n",
       "    </tr>\n",
       "    <tr>\n",
       "      <th>45</th>\n",
       "      <td>1.192633e-03</td>\n",
       "      <td>0.770147</td>\n",
       "      <td>0.090320</td>\n",
       "    </tr>\n",
       "    <tr>\n",
       "      <th>46</th>\n",
       "      <td>1.520880e-03</td>\n",
       "      <td>0.786525</td>\n",
       "      <td>0.091598</td>\n",
       "    </tr>\n",
       "    <tr>\n",
       "      <th>47</th>\n",
       "      <td>1.634447e-03</td>\n",
       "      <td>0.797266</td>\n",
       "      <td>0.059654</td>\n",
       "    </tr>\n",
       "    <tr>\n",
       "      <th>48</th>\n",
       "      <td>1.724222e-03</td>\n",
       "      <td>0.797266</td>\n",
       "      <td>0.059654</td>\n",
       "    </tr>\n",
       "    <tr>\n",
       "      <th>49</th>\n",
       "      <td>2.162644e-03</td>\n",
       "      <td>0.796471</td>\n",
       "      <td>0.061241</td>\n",
       "    </tr>\n",
       "    <tr>\n",
       "      <th>50</th>\n",
       "      <td>2.924751e-03</td>\n",
       "      <td>0.806535</td>\n",
       "      <td>0.070119</td>\n",
       "    </tr>\n",
       "    <tr>\n",
       "      <th>51</th>\n",
       "      <td>2.947666e-03</td>\n",
       "      <td>0.806535</td>\n",
       "      <td>0.070119</td>\n",
       "    </tr>\n",
       "    <tr>\n",
       "      <th>52</th>\n",
       "      <td>4.081587e-03</td>\n",
       "      <td>0.814509</td>\n",
       "      <td>0.070221</td>\n",
       "    </tr>\n",
       "    <tr>\n",
       "      <th>53</th>\n",
       "      <td>6.466935e-03</td>\n",
       "      <td>0.805043</td>\n",
       "      <td>0.066796</td>\n",
       "    </tr>\n",
       "    <tr>\n",
       "      <th>54</th>\n",
       "      <td>1.014399e-02</td>\n",
       "      <td>0.743360</td>\n",
       "      <td>0.125257</td>\n",
       "    </tr>\n",
       "    <tr>\n",
       "      <th>55</th>\n",
       "      <td>2.115568e-02</td>\n",
       "      <td>0.554109</td>\n",
       "      <td>0.268740</td>\n",
       "    </tr>\n",
       "    <tr>\n",
       "      <th>56</th>\n",
       "      <td>2.174223e-02</td>\n",
       "      <td>0.520183</td>\n",
       "      <td>0.241713</td>\n",
       "    </tr>\n",
       "    <tr>\n",
       "      <th>57</th>\n",
       "      <td>5.584502e-02</td>\n",
       "      <td>0.379084</td>\n",
       "      <td>0.204337</td>\n",
       "    </tr>\n",
       "  </tbody>\n",
       "</table>\n",
       "</div>"
      ],
      "text/plain": [
       "           alpha  mean_accuracy       std\n",
       "0   0.000000e+00       0.767563  0.140296\n",
       "1   5.628061e-16       0.767563  0.140296\n",
       "2   5.628061e-16       0.767563  0.140296\n",
       "3   8.442092e-16       0.767563  0.140296\n",
       "4   8.442092e-16       0.767563  0.140296\n",
       "5   2.251225e-15       0.767563  0.140296\n",
       "6   3.658240e-15       0.767563  0.140296\n",
       "7   5.102507e-07       0.767563  0.140296\n",
       "8   6.803343e-07       0.767511  0.140258\n",
       "9   1.157994e-06       0.767509  0.140257\n",
       "10  3.052917e-06       0.767241  0.140083\n",
       "11  5.238273e-06       0.767130  0.140096\n",
       "12  7.794542e-06       0.766808  0.140732\n",
       "13  7.857409e-06       0.766808  0.140732\n",
       "14  1.157475e-05       0.768603  0.140478\n",
       "15  1.195591e-05       0.768603  0.140478\n",
       "16  1.617368e-05       0.769223  0.140907\n",
       "17  2.696596e-05       0.774999  0.128906\n",
       "18  3.451937e-05       0.774902  0.128835\n",
       "19  3.870094e-05       0.776012  0.129619\n",
       "20  3.952053e-05       0.776012  0.129619\n",
       "21  4.742464e-05       0.776238  0.129933\n",
       "22  5.193704e-05       0.776200  0.129937\n",
       "23  5.385039e-05       0.776200  0.129937\n",
       "24  6.429569e-05       0.774808  0.129113\n",
       "25  7.700025e-05       0.774722  0.129121\n",
       "26  7.729492e-05       0.774722  0.129121\n",
       "27  8.047208e-05       0.774722  0.129121\n",
       "28  1.089319e-04       0.775134  0.128988\n",
       "29  1.499977e-04       0.772867  0.127401\n",
       "30  2.194135e-04       0.773032  0.126427\n",
       "31  2.398821e-04       0.774535  0.127757\n",
       "32  3.011434e-04       0.776373  0.125996\n",
       "33  3.345490e-04       0.782047  0.115031\n",
       "34  4.015247e-04       0.781396  0.117213\n",
       "35  4.471331e-04       0.772028  0.119938\n",
       "36  4.835082e-04       0.771467  0.122440\n",
       "37  5.323434e-04       0.772478  0.122154\n",
       "38  6.376138e-04       0.781908  0.107708\n",
       "39  6.602059e-04       0.788976  0.095248\n",
       "40  7.526035e-04       0.783748  0.091714\n",
       "41  9.052588e-04       0.773891  0.088831\n",
       "42  9.572854e-04       0.772170  0.091751\n",
       "43  1.005306e-03       0.771769  0.091263\n",
       "44  1.169474e-03       0.771491  0.091421\n",
       "45  1.192633e-03       0.770147  0.090320\n",
       "46  1.520880e-03       0.786525  0.091598\n",
       "47  1.634447e-03       0.797266  0.059654\n",
       "48  1.724222e-03       0.797266  0.059654\n",
       "49  2.162644e-03       0.796471  0.061241\n",
       "50  2.924751e-03       0.806535  0.070119\n",
       "51  2.947666e-03       0.806535  0.070119\n",
       "52  4.081587e-03       0.814509  0.070221\n",
       "53  6.466935e-03       0.805043  0.066796\n",
       "54  1.014399e-02       0.743360  0.125257\n",
       "55  2.115568e-02       0.554109  0.268740\n",
       "56  2.174223e-02       0.520183  0.241713\n",
       "57  5.584502e-02       0.379084  0.204337"
      ]
     },
     "execution_count": 64,
     "metadata": {},
     "output_type": "execute_result"
    }
   ],
   "source": [
    "alpha_results"
   ]
  },
  {
   "cell_type": "code",
   "execution_count": 65,
   "id": "60d742cf",
   "metadata": {},
   "outputs": [],
   "source": [
    "ideal_ccp_alpha=4.081587*10**(-3)"
   ]
  },
  {
   "cell_type": "code",
   "execution_count": 66,
   "id": "332e2a5e",
   "metadata": {},
   "outputs": [],
   "source": [
    "model5=DecisionTreeRegressor(random_state=0,ccp_alpha= 4.081587*10**(-3))"
   ]
  },
  {
   "cell_type": "code",
   "execution_count": 67,
   "id": "10db6334",
   "metadata": {},
   "outputs": [
    {
     "data": {
      "text/plain": [
       "DecisionTreeRegressor(ccp_alpha=0.004081587, random_state=0)"
      ]
     },
     "execution_count": 67,
     "metadata": {},
     "output_type": "execute_result"
    }
   ],
   "source": [
    "model5.fit(x_train,y_train)"
   ]
  },
  {
   "cell_type": "code",
   "execution_count": 68,
   "id": "45c0d5da",
   "metadata": {},
   "outputs": [],
   "source": [
    "# Predicting for training and testing \n",
    "ytrain_pred = model5.predict(x_train)\n",
    "ytest_pred = model5.predict(x_test)"
   ]
  },
  {
   "cell_type": "code",
   "execution_count": 69,
   "id": "2f125150",
   "metadata": {},
   "outputs": [
    {
     "data": {
      "text/plain": [
       "DecisionTreeRegressor(ccp_alpha=0.004081587, random_state=0)"
      ]
     },
     "execution_count": 69,
     "metadata": {},
     "output_type": "execute_result"
    }
   ],
   "source": [
    "model5.fit(x_train,y_train)"
   ]
  },
  {
   "cell_type": "code",
   "execution_count": 70,
   "id": "45ca1edf",
   "metadata": {},
   "outputs": [
    {
     "name": "stdout",
     "output_type": "stream",
     "text": [
      "Training Score 0.87, Testing Score 0.84\n"
     ]
    }
   ],
   "source": [
    "# Model Evaluation\n",
    "\n",
    "train_score = model5.score(x_train,y_train)\n",
    "test_score = model5.score(x_test,y_test)\n",
    "print(f'Training Score {round(train_score,2)}, Testing Score {round(test_score,2)}')"
   ]
  },
  {
   "cell_type": "code",
   "execution_count": 71,
   "id": "4d9d8f65",
   "metadata": {},
   "outputs": [
    {
     "data": {
      "image/png": "[encoded data removed]",
      "text/plain": [
       "<Figure size 1500x750 with 1 Axes>"
      ]
     },
     "metadata": {},
     "output_type": "display_data"
    }
   ],
   "source": [
    "plt.figure(figsize=(15,7.5))\n",
    "plot_tree(model5,filled=True,rounded=True,class_names=['No HD','Yes HD'],feature_names=x.columns.to_list())\n",
    "plt.show()"
   ]
  },
  {
   "cell_type": "markdown",
   "id": "80ad879a",
   "metadata": {},
   "source": [
    "### Random Forest"
   ]
  },
  {
   "cell_type": "code",
   "execution_count": 72,
   "id": "5e3f3fd8",
   "metadata": {},
   "outputs": [],
   "source": [
    "from sklearn import metrics\n",
    "from sklearn import preprocessing\n",
    "from sklearn.model_selection import GridSearchCV\n",
    "from sklearn.ensemble import RandomForestRegressor"
   ]
  },
  {
   "cell_type": "code",
   "execution_count": 73,
   "id": "2710b5f8",
   "metadata": {},
   "outputs": [],
   "source": [
    "model1 = RandomForestRegressor(n_estimators=100,random_state=0)\n",
    "model1.fit(x_train,y_train)\n",
    "y_train_pred=model1.predict(x_train)\n",
    "y_test_pred=model1.predict(x_test)"
   ]
  },
  {
   "cell_type": "code",
   "execution_count": 74,
   "id": "1c5d64ee",
   "metadata": {},
   "outputs": [
    {
     "name": "stdout",
     "output_type": "stream",
     "text": [
      "MSE_y_train =0.0034740647640428396\n",
      "MSE_y_test =0.01040048526890129\n",
      "RMSE_y_train =0.058941197511102876\n",
      "RMSE_y_test =0.10198276947063797\n",
      "train_r-squared =0.9864332874161059\n",
      "test_r-squared =0.9626029979081683\n"
     ]
    }
   ],
   "source": [
    "from sklearn.metrics import mean_squared_error,r2_score\n",
    "train_mse=mean_squared_error(y_train,y_train_pred)\n",
    "test_mse=mean_squared_error(y_test,y_test_pred)\n",
    "print(f'MSE_y_train ={train_mse}')\n",
    "print(f'MSE_y_test ={test_mse}')\n",
    "print(f'RMSE_y_train ={np.sqrt(train_mse)}')\n",
    "print(f'RMSE_y_test ={np.sqrt(test_mse)}')\n",
    "print(f'train_r-squared ={r2_score(y_train,y_train_pred)}')\n",
    "print(f'test_r-squared ={r2_score(y_test,y_test_pred)}')"
   ]
  },
  {
   "cell_type": "code",
   "execution_count": 75,
   "id": "3c86e21c",
   "metadata": {},
   "outputs": [
    {
     "name": "stdout",
     "output_type": "stream",
     "text": [
      "{'n_estimators': 100, 'min_samples_split': 5, 'min_samples_leaf': 2, 'max_features': 'sqrt', 'max_depth': 20}\n"
     ]
    }
   ],
   "source": [
    "from sklearn.model_selection import RandomizedSearchCV\n",
    "param_dist = {\n",
    "    'n_estimators': [100, 200, 300],\n",
    "    'max_depth': [10, 20, 30],\n",
    "    'min_samples_split': [2, 5, 10],\n",
    "    'min_samples_leaf': [1, 2, 4],\n",
    "    'max_features': ['sqrt', 'log2']\n",
    "}\n",
    "\n",
    "# Create a Randomized Search Cross-Validation object\n",
    "random_search = RandomizedSearchCV(estimator=model1, param_distributions=param_dist,  cv=5, scoring='accuracy', random_state=0)\n",
    "\n",
    "# Fit the randomized search to the training data\n",
    "random_search.fit(x_train, y_train)\n",
    "\n",
    "# Get the best hyperparameters from the randomized search\n",
    "best_params = random_search.best_params_\n",
    "print(best_params)"
   ]
  },
  {
   "cell_type": "code",
   "execution_count": 76,
   "id": "75cd1226",
   "metadata": {},
   "outputs": [],
   "source": [
    "model2 = RandomForestRegressor(n_estimators = 100,min_samples_split =5, min_samples_leaf=2,max_features ='sqrt',max_depth =20)"
   ]
  },
  {
   "cell_type": "code",
   "execution_count": 77,
   "id": "d6bb722e",
   "metadata": {},
   "outputs": [],
   "source": [
    "model2.fit(x_train,y_train)\n",
    "y_train_pred=model2.predict(x_train)\n",
    "y_test_pred=model2.predict(x_test)"
   ]
  },
  {
   "cell_type": "code",
   "execution_count": 78,
   "id": "b0cb9e1d",
   "metadata": {},
   "outputs": [
    {
     "name": "stdout",
     "output_type": "stream",
     "text": [
      "RMSE_y_train =0.18349658559836424\n",
      "RMSE_y_test =0.24328478518207677\n",
      "train_r-squared =0.8685100109705127\n",
      "test_r-squared =0.7871796837605901\n"
     ]
    }
   ],
   "source": [
    "train_mse=mean_squared_error(y_train,y_train_pred)\n",
    "test_mse=mean_squared_error(y_test,y_test_pred)\n",
    "print(f'RMSE_y_train ={np.sqrt(train_mse)}')\n",
    "print(f'RMSE_y_test ={np.sqrt(test_mse)}')\n",
    "print(f'train_r-squared ={r2_score(y_train,y_train_pred)}')\n",
    "print(f'test_r-squared ={r2_score(y_test,y_test_pred)}')"
   ]
  },
  {
   "cell_type": "code",
   "execution_count": null,
   "id": "57f8b8e8",
   "metadata": {},
   "outputs": [],
   "source": []
  }
 ],
 "metadata": {
  "kernelspec": {
   "display_name": "Python 3 (ipykernel)",
   "language": "python",
   "name": "python3"
  },
  "language_info": {
   "codemirror_mode": {
    "name": "ipython",
    "version": 3
   },
   "file_extension": ".py",
   "mimetype": "text/x-python",
   "name": "python",
   "nbconvert_exporter": "python",
   "pygments_lexer": "ipython3",
   "version": "3.9.13"
  }
 },
 "nbformat": 4,
 "nbformat_minor": 5
}
